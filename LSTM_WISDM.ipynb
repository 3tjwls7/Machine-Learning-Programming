{
  "nbformat": 4,
  "nbformat_minor": 0,
  "metadata": {
    "colab": {
      "provenance": [],
      "gpuType": "T4"
    },
    "kernelspec": {
      "name": "python3",
      "display_name": "Python 3"
    },
    "language_info": {
      "name": "python"
    },
    "accelerator": "GPU"
  },
  "cells": [
    {
      "cell_type": "code",
      "source": [
        "# ================================================\n",
        "# 0) Imports\n",
        "# ================================================\n",
        "import numpy as np\n",
        "import pandas as pd\n",
        "from collections import Counter\n",
        "\n",
        "from sklearn.preprocessing import LabelEncoder, StandardScaler\n",
        "from sklearn.model_selection import train_test_split\n",
        "from sklearn.metrics import classification_report, confusion_matrix\n",
        "\n",
        "import tensorflow as tf\n",
        "from tensorflow.keras.models import Sequential\n",
        "from tensorflow.keras.layers import LSTM, Dropout, Dense\n",
        "from tensorflow.keras.utils import to_categorical"
      ],
      "metadata": {
        "id": "0O1WMg57a3Vw"
      },
      "execution_count": 51,
      "outputs": []
    },
    {
      "cell_type": "code",
      "source": [
        "# ================================================\n",
        "# 1) 데이터 로드 & 기본 전처리\n",
        "# ================================================\n",
        "cols = [\"subject\", \"label\", \"timestamp\", \"x\", \"y\", \"z\"]\n",
        "df = pd.read_csv(\n",
        "    \"/content/drive/MyDrive/data/WISDM_ar_v1.1_raw.txt\",\n",
        "    header=None, names=cols, on_bad_lines=\"skip\"\n",
        ").dropna()\n",
        "\n",
        "# z 끝 세미콜론 제거 + float 변환\n",
        "df[\"z\"] = df[\"z\"].astype(str).str.replace(\";\", \"\", regex=False).astype(float)\n",
        "df[\"x\"] = df[\"x\"].astype(float)\n",
        "df[\"y\"] = df[\"y\"].astype(float)\n",
        "\n",
        "print(\"샘플:\\n\", df.head(), \"\\n\")\n",
        "print(\"라벨 분포:\", Counter(df[\"label\"]))\n"
      ],
      "metadata": {
        "colab": {
          "base_uri": "https://localhost:8080/"
        },
        "id": "4V5D9oELa5Qm",
        "outputId": "04892ab5-c7e7-4bb5-afea-65e16b926312"
      },
      "execution_count": 52,
      "outputs": [
        {
          "output_type": "stream",
          "name": "stdout",
          "text": [
            "샘플:\n",
            "    subject    label       timestamp         x          y         z\n",
            "0       33  Jogging  49105962326000 -0.694638  12.680544  0.503953\n",
            "1       33  Jogging  49106062271000  5.012288  11.264028  0.953424\n",
            "2       33  Jogging  49106112167000  4.903325  10.882658 -0.081722\n",
            "3       33  Jogging  49106222305000 -0.612916  18.496431  3.023717\n",
            "4       33  Jogging  49106332290000 -1.184970  12.108489  7.205164 \n",
            "\n",
            "라벨 분포: Counter({'Walking': 418393, 'Jogging': 336445, 'Upstairs': 122869, 'Downstairs': 100425, 'Sitting': 59939, 'Standing': 48394})\n"
          ]
        }
      ]
    },
    {
      "cell_type": "code",
      "source": [
        "# ================================================\n",
        "# 2) Sliding Window\n",
        "#    최빈 라벨로 프레임 라벨 부여\n",
        "# ================================================\n",
        "Fs = 20\n",
        "frame_size = Fs*4 # 80\n",
        "hop_size = Fs*2 # 40 -> 50% 오버래핑\n",
        "\n",
        "N_FEATURES = 3\n",
        "\n",
        "def get_frames(df, frame_size, hop_size):\n",
        "    frames, labels = [], []\n",
        "    lab = df[\"label\"].to_numpy()\n",
        "    xv = df[\"x\"].to_numpy(); yv = df[\"y\"].to_numpy(); zv = df[\"z\"].to_numpy()\n",
        "\n",
        "    for i in range(0, len(df) - frame_size, hop_size):\n",
        "        x = xv[i:i+frame_size]\n",
        "        y = yv[i:i+frame_size]\n",
        "        z = zv[i:i+frame_size]\n",
        "\n",
        "        seg = lab[i:i+frame_size]\n",
        "        vals, counts = np.unique(seg, return_counts=True)\n",
        "        label = vals[np.argmax(counts)]  # 최빈값\n",
        "\n",
        "        frames.append([x, y, z])\n",
        "        labels.append(label)\n",
        "\n",
        "    frames = np.asarray(frames).reshape(-1, frame_size, N_FEATURES)\n",
        "    labels = np.asarray(labels)\n",
        "    return frames, labels\n",
        "\n",
        "X, y_raw = get_frames(df, frame_size, hop_size)\n",
        "print(\"X shape:\", X.shape)\n",
        "print(\"프레임 기준 라벨 분포:\", Counter(y_raw))"
      ],
      "metadata": {
        "colab": {
          "base_uri": "https://localhost:8080/"
        },
        "id": "_3CIIOWja_Rb",
        "outputId": "beec6afc-dbcf-4b0a-8e71-af794a1b2d89"
      },
      "execution_count": 53,
      "outputs": [
        {
          "output_type": "stream",
          "name": "stdout",
          "text": [
            "X shape: (27160, 80, 3)\n",
            "프레임 기준 라벨 분포: Counter({np.str_('Walking'): 10462, np.str_('Jogging'): 8412, np.str_('Upstairs'): 3068, np.str_('Downstairs'): 2513, np.str_('Sitting'): 1494, np.str_('Standing'): 1211})\n"
          ]
        }
      ]
    },
    {
      "cell_type": "code",
      "source": [
        "# ================================================\n",
        "# 2-1) Subject-wise wrapper (사용자 경계 유지)\n",
        "# ================================================\n",
        "def run_subjectwise(get_frames_func, df, group_col, frame_size, hop_size):\n",
        "    X_list, y_list = [], []\n",
        "    for _, g in df.groupby(group_col, sort=False):\n",
        "        # 시계열 안정화를 위해 시간 정렬 권장\n",
        "        if \"timestamp\" in g.columns:\n",
        "            g = g.sort_values(\"timestamp\")\n",
        "        Xg, yg = get_frames_func(g, frame_size, hop_size)\n",
        "        if len(yg) == 0:\n",
        "            continue\n",
        "        X_list.append(Xg)\n",
        "        y_list.append(yg)\n",
        "    if not X_list:\n",
        "        return np.empty((0, frame_size, N_FEATURES)), np.array([])\n",
        "    return np.vstack(X_list), np.concatenate(y_list)"
      ],
      "metadata": {
        "id": "aqDr3frS_KoS"
      },
      "execution_count": 54,
      "outputs": []
    },
    {
      "cell_type": "code",
      "source": [
        "# ================================================\n",
        "# 3) Subject-wise Train/Test Split\n",
        "#    예: subject <= 30 → train, >30 → test\n",
        "# ================================================\n",
        "df_train = df[df[\"subject\"] <= 30].copy()\n",
        "df_test  = df[df[\"subject\"] >  30].copy()\n",
        "\n",
        "X_train, y_train_raw = run_subjectwise(get_frames, df_train, \"subject\", frame_size, hop_size)\n",
        "X_test,  y_test_raw  = run_subjectwise(get_frames, df_test,  \"subject\", frame_size, hop_size)\n",
        "\n",
        "print(\"X_train:\", X_train.shape, \" / X_test:\", X_test.shape)\n",
        "print(\"Train 라벨 분포:\", Counter(y_train_raw))\n",
        "print(\"Test  라벨 분포:\", Counter(y_test_raw))"
      ],
      "metadata": {
        "colab": {
          "base_uri": "https://localhost:8080/"
        },
        "id": "hnmckgEtbGx4",
        "outputId": "a71d8efd-d8b7-4cb8-c184-cafc489aba78"
      },
      "execution_count": 55,
      "outputs": [
        {
          "output_type": "stream",
          "name": "stdout",
          "text": [
            "X_train: (22121, 80, 3)  / X_test: (4987, 80, 3)\n",
            "Train 라벨 분포: Counter({np.str_('Walking'): 8665, np.str_('Jogging'): 6749, np.str_('Upstairs'): 2555, np.str_('Downstairs'): 2064, np.str_('Sitting'): 1145, np.str_('Standing'): 943})\n",
            "Test  라벨 분포: Counter({np.str_('Walking'): 1770, np.str_('Jogging'): 1669, np.str_('Upstairs'): 498, np.str_('Downstairs'): 444, np.str_('Sitting'): 354, np.str_('Standing'): 252})\n"
          ]
        }
      ]
    },
    {
      "cell_type": "code",
      "source": [
        "# ================================================\n",
        "# 4) 라벨 인코딩 (원-핫)\n",
        "#    클래스 일관성을 위해 전체 df로 fit\n",
        "# ================================================\n",
        "le = LabelEncoder()\n",
        "le.fit(df[\"label\"])\n",
        "y_train_int = le.transform(y_train_raw)\n",
        "y_test_int  = le.transform(y_test_raw)\n",
        "num_classes = len(le.classes_)\n",
        "print(\"Classes:\", list(le.classes_))\n",
        "\n",
        "y_train = to_categorical(y_train_int, num_classes=num_classes)\n",
        "y_test  = to_categorical(y_test_int,  num_classes=num_classes)"
      ],
      "metadata": {
        "id": "ZD9R7KZSbIpv",
        "colab": {
          "base_uri": "https://localhost:8080/"
        },
        "outputId": "d9584f8e-e962-4feb-b991-810c4c350082"
      },
      "execution_count": 56,
      "outputs": [
        {
          "output_type": "stream",
          "name": "stdout",
          "text": [
            "Classes: ['Downstairs', 'Jogging', 'Sitting', 'Standing', 'Upstairs', 'Walking']\n"
          ]
        }
      ]
    },
    {
      "cell_type": "code",
      "source": [
        "# ================================================\n",
        "# 5) 표준화 (채널별, Train으로 fit → Train/Test transform)\n",
        "# ================================================\n",
        "scaler = StandardScaler()\n",
        "X_train_2d = X_train.reshape(-1, X_train.shape[-1])  # (윈도우*타임, 3)\n",
        "X_test_2d  = X_test.reshape(-1,  X_test.shape[-1])\n",
        "\n",
        "scaler.fit(X_train_2d)\n",
        "X_train = scaler.transform(X_train_2d).reshape(X_train.shape)\n",
        "X_test  = scaler.transform(X_test_2d ).reshape(X_test.shape)\n",
        "\n",
        "print(\"Shapes ->\",\n",
        "      \"X_train:\", X_train.shape,\n",
        "      \"X_test:\", X_test.shape,\n",
        "      \"y_train:\", y_train.shape,\n",
        "      \"y_test:\", y_test.shape)\n"
      ],
      "metadata": {
        "id": "CwNMI8b3bMDA",
        "colab": {
          "base_uri": "https://localhost:8080/"
        },
        "outputId": "5f2a1027-b364-4d7c-d448-167a60d29a64"
      },
      "execution_count": 57,
      "outputs": [
        {
          "output_type": "stream",
          "name": "stdout",
          "text": [
            "Shapes -> X_train: (22121, 80, 3) X_test: (4987, 80, 3) y_train: (22121, 6) y_test: (4987, 6)\n"
          ]
        }
      ]
    },
    {
      "cell_type": "code",
      "source": [
        "# ================================================\n",
        "# 6) LSTM 모델 (Sequential)\n",
        "#    LSTM(128)->Dropout(0.5)->LSTM(64)->Dropout(0.5)\n",
        "#    Dense(128)->Dropout(0.5)->Dense(num_classes, softmax)\n",
        "# ================================================\n",
        "def build_lstm(input_shape, num_classes):\n",
        "    model = Sequential()\n",
        "    model.add(LSTM(128, return_sequences=True, input_shape=input_shape))\n",
        "    model.add(Dropout(0.5))\n",
        "    model.add(LSTM(64))\n",
        "    model.add(Dropout(0.5))\n",
        "    model.add(Dense(128, activation=\"relu\"))\n",
        "    model.add(Dropout(0.5))\n",
        "    model.add(Dense(num_classes, activation=\"softmax\"))\n",
        "    model.compile(\n",
        "        optimizer=tf.keras.optimizers.Adam(1e-3),\n",
        "        loss=\"categorical_crossentropy\",  # one-hot 라벨\n",
        "        metrics=[\"accuracy\"]\n",
        "    )\n",
        "    return model\n",
        "\n",
        "model = build_lstm((frame_size, N_FEATURES), num_classes)\n",
        "model.summary()"
      ],
      "metadata": {
        "colab": {
          "base_uri": "https://localhost:8080/",
          "height": 420
        },
        "id": "rf1UK6iabOjm",
        "outputId": "4cc0d48d-5f4f-4a7b-d271-808e107bb4ff"
      },
      "execution_count": 58,
      "outputs": [
        {
          "output_type": "stream",
          "name": "stderr",
          "text": [
            "/usr/local/lib/python3.12/dist-packages/keras/src/layers/rnn/rnn.py:199: UserWarning: Do not pass an `input_shape`/`input_dim` argument to a layer. When using Sequential models, prefer using an `Input(shape)` object as the first layer in the model instead.\n",
            "  super().__init__(**kwargs)\n"
          ]
        },
        {
          "output_type": "display_data",
          "data": {
            "text/plain": [
              "\u001b[1mModel: \"sequential_5\"\u001b[0m\n"
            ],
            "text/html": [
              "<pre style=\"white-space:pre;overflow-x:auto;line-height:normal;font-family:Menlo,'DejaVu Sans Mono',consolas,'Courier New',monospace\"><span style=\"font-weight: bold\">Model: \"sequential_5\"</span>\n",
              "</pre>\n"
            ]
          },
          "metadata": {}
        },
        {
          "output_type": "display_data",
          "data": {
            "text/plain": [
              "┏━━━━━━━━━━━━━━━━━━━━━━━━━━━━━━━━━┳━━━━━━━━━━━━━━━━━━━━━━━━┳━━━━━━━━━━━━━━━┓\n",
              "┃\u001b[1m \u001b[0m\u001b[1mLayer (type)                   \u001b[0m\u001b[1m \u001b[0m┃\u001b[1m \u001b[0m\u001b[1mOutput Shape          \u001b[0m\u001b[1m \u001b[0m┃\u001b[1m \u001b[0m\u001b[1m      Param #\u001b[0m\u001b[1m \u001b[0m┃\n",
              "┡━━━━━━━━━━━━━━━━━━━━━━━━━━━━━━━━━╇━━━━━━━━━━━━━━━━━━━━━━━━╇━━━━━━━━━━━━━━━┩\n",
              "│ lstm_10 (\u001b[38;5;33mLSTM\u001b[0m)                  │ (\u001b[38;5;45mNone\u001b[0m, \u001b[38;5;34m80\u001b[0m, \u001b[38;5;34m128\u001b[0m)        │        \u001b[38;5;34m67,584\u001b[0m │\n",
              "├─────────────────────────────────┼────────────────────────┼───────────────┤\n",
              "│ dropout_15 (\u001b[38;5;33mDropout\u001b[0m)            │ (\u001b[38;5;45mNone\u001b[0m, \u001b[38;5;34m80\u001b[0m, \u001b[38;5;34m128\u001b[0m)        │             \u001b[38;5;34m0\u001b[0m │\n",
              "├─────────────────────────────────┼────────────────────────┼───────────────┤\n",
              "│ lstm_11 (\u001b[38;5;33mLSTM\u001b[0m)                  │ (\u001b[38;5;45mNone\u001b[0m, \u001b[38;5;34m64\u001b[0m)             │        \u001b[38;5;34m49,408\u001b[0m │\n",
              "├─────────────────────────────────┼────────────────────────┼───────────────┤\n",
              "│ dropout_16 (\u001b[38;5;33mDropout\u001b[0m)            │ (\u001b[38;5;45mNone\u001b[0m, \u001b[38;5;34m64\u001b[0m)             │             \u001b[38;5;34m0\u001b[0m │\n",
              "├─────────────────────────────────┼────────────────────────┼───────────────┤\n",
              "│ dense_10 (\u001b[38;5;33mDense\u001b[0m)                │ (\u001b[38;5;45mNone\u001b[0m, \u001b[38;5;34m128\u001b[0m)            │         \u001b[38;5;34m8,320\u001b[0m │\n",
              "├─────────────────────────────────┼────────────────────────┼───────────────┤\n",
              "│ dropout_17 (\u001b[38;5;33mDropout\u001b[0m)            │ (\u001b[38;5;45mNone\u001b[0m, \u001b[38;5;34m128\u001b[0m)            │             \u001b[38;5;34m0\u001b[0m │\n",
              "├─────────────────────────────────┼────────────────────────┼───────────────┤\n",
              "│ dense_11 (\u001b[38;5;33mDense\u001b[0m)                │ (\u001b[38;5;45mNone\u001b[0m, \u001b[38;5;34m6\u001b[0m)              │           \u001b[38;5;34m774\u001b[0m │\n",
              "└─────────────────────────────────┴────────────────────────┴───────────────┘\n"
            ],
            "text/html": [
              "<pre style=\"white-space:pre;overflow-x:auto;line-height:normal;font-family:Menlo,'DejaVu Sans Mono',consolas,'Courier New',monospace\">┏━━━━━━━━━━━━━━━━━━━━━━━━━━━━━━━━━┳━━━━━━━━━━━━━━━━━━━━━━━━┳━━━━━━━━━━━━━━━┓\n",
              "┃<span style=\"font-weight: bold\"> Layer (type)                    </span>┃<span style=\"font-weight: bold\"> Output Shape           </span>┃<span style=\"font-weight: bold\">       Param # </span>┃\n",
              "┡━━━━━━━━━━━━━━━━━━━━━━━━━━━━━━━━━╇━━━━━━━━━━━━━━━━━━━━━━━━╇━━━━━━━━━━━━━━━┩\n",
              "│ lstm_10 (<span style=\"color: #0087ff; text-decoration-color: #0087ff\">LSTM</span>)                  │ (<span style=\"color: #00d7ff; text-decoration-color: #00d7ff\">None</span>, <span style=\"color: #00af00; text-decoration-color: #00af00\">80</span>, <span style=\"color: #00af00; text-decoration-color: #00af00\">128</span>)        │        <span style=\"color: #00af00; text-decoration-color: #00af00\">67,584</span> │\n",
              "├─────────────────────────────────┼────────────────────────┼───────────────┤\n",
              "│ dropout_15 (<span style=\"color: #0087ff; text-decoration-color: #0087ff\">Dropout</span>)            │ (<span style=\"color: #00d7ff; text-decoration-color: #00d7ff\">None</span>, <span style=\"color: #00af00; text-decoration-color: #00af00\">80</span>, <span style=\"color: #00af00; text-decoration-color: #00af00\">128</span>)        │             <span style=\"color: #00af00; text-decoration-color: #00af00\">0</span> │\n",
              "├─────────────────────────────────┼────────────────────────┼───────────────┤\n",
              "│ lstm_11 (<span style=\"color: #0087ff; text-decoration-color: #0087ff\">LSTM</span>)                  │ (<span style=\"color: #00d7ff; text-decoration-color: #00d7ff\">None</span>, <span style=\"color: #00af00; text-decoration-color: #00af00\">64</span>)             │        <span style=\"color: #00af00; text-decoration-color: #00af00\">49,408</span> │\n",
              "├─────────────────────────────────┼────────────────────────┼───────────────┤\n",
              "│ dropout_16 (<span style=\"color: #0087ff; text-decoration-color: #0087ff\">Dropout</span>)            │ (<span style=\"color: #00d7ff; text-decoration-color: #00d7ff\">None</span>, <span style=\"color: #00af00; text-decoration-color: #00af00\">64</span>)             │             <span style=\"color: #00af00; text-decoration-color: #00af00\">0</span> │\n",
              "├─────────────────────────────────┼────────────────────────┼───────────────┤\n",
              "│ dense_10 (<span style=\"color: #0087ff; text-decoration-color: #0087ff\">Dense</span>)                │ (<span style=\"color: #00d7ff; text-decoration-color: #00d7ff\">None</span>, <span style=\"color: #00af00; text-decoration-color: #00af00\">128</span>)            │         <span style=\"color: #00af00; text-decoration-color: #00af00\">8,320</span> │\n",
              "├─────────────────────────────────┼────────────────────────┼───────────────┤\n",
              "│ dropout_17 (<span style=\"color: #0087ff; text-decoration-color: #0087ff\">Dropout</span>)            │ (<span style=\"color: #00d7ff; text-decoration-color: #00d7ff\">None</span>, <span style=\"color: #00af00; text-decoration-color: #00af00\">128</span>)            │             <span style=\"color: #00af00; text-decoration-color: #00af00\">0</span> │\n",
              "├─────────────────────────────────┼────────────────────────┼───────────────┤\n",
              "│ dense_11 (<span style=\"color: #0087ff; text-decoration-color: #0087ff\">Dense</span>)                │ (<span style=\"color: #00d7ff; text-decoration-color: #00d7ff\">None</span>, <span style=\"color: #00af00; text-decoration-color: #00af00\">6</span>)              │           <span style=\"color: #00af00; text-decoration-color: #00af00\">774</span> │\n",
              "└─────────────────────────────────┴────────────────────────┴───────────────┘\n",
              "</pre>\n"
            ]
          },
          "metadata": {}
        },
        {
          "output_type": "display_data",
          "data": {
            "text/plain": [
              "\u001b[1m Total params: \u001b[0m\u001b[38;5;34m126,086\u001b[0m (492.52 KB)\n"
            ],
            "text/html": [
              "<pre style=\"white-space:pre;overflow-x:auto;line-height:normal;font-family:Menlo,'DejaVu Sans Mono',consolas,'Courier New',monospace\"><span style=\"font-weight: bold\"> Total params: </span><span style=\"color: #00af00; text-decoration-color: #00af00\">126,086</span> (492.52 KB)\n",
              "</pre>\n"
            ]
          },
          "metadata": {}
        },
        {
          "output_type": "display_data",
          "data": {
            "text/plain": [
              "\u001b[1m Trainable params: \u001b[0m\u001b[38;5;34m126,086\u001b[0m (492.52 KB)\n"
            ],
            "text/html": [
              "<pre style=\"white-space:pre;overflow-x:auto;line-height:normal;font-family:Menlo,'DejaVu Sans Mono',consolas,'Courier New',monospace\"><span style=\"font-weight: bold\"> Trainable params: </span><span style=\"color: #00af00; text-decoration-color: #00af00\">126,086</span> (492.52 KB)\n",
              "</pre>\n"
            ]
          },
          "metadata": {}
        },
        {
          "output_type": "display_data",
          "data": {
            "text/plain": [
              "\u001b[1m Non-trainable params: \u001b[0m\u001b[38;5;34m0\u001b[0m (0.00 B)\n"
            ],
            "text/html": [
              "<pre style=\"white-space:pre;overflow-x:auto;line-height:normal;font-family:Menlo,'DejaVu Sans Mono',consolas,'Courier New',monospace\"><span style=\"font-weight: bold\"> Non-trainable params: </span><span style=\"color: #00af00; text-decoration-color: #00af00\">0</span> (0.00 B)\n",
              "</pre>\n"
            ]
          },
          "metadata": {}
        }
      ]
    },
    {
      "cell_type": "code",
      "source": [
        "# ================================================\n",
        "# 7) 학습\n",
        "#    주의: validation_split=0.2는 같은 subject의 윈도우가\n",
        "#    train/val에 섞일 수 있음(빠른 검증용).\n",
        "#    더 엄밀하게 하려면 train subject 중 일부를 '검증 전용 subject'로 분리하세요.\n",
        "# ================================================\n",
        "history = model.fit(\n",
        "    X_train, y_train,\n",
        "    validation_split=0.2,\n",
        "    epochs=30,\n",
        "    batch_size=128,   # LSTM은 연산량↑ → 128 권장\n",
        "    verbose=1\n",
        ")"
      ],
      "metadata": {
        "colab": {
          "base_uri": "https://localhost:8080/"
        },
        "id": "VU8o4borbSDZ",
        "outputId": "de27f4e0-51f1-4fd0-a0ef-43296232cc4c"
      },
      "execution_count": 59,
      "outputs": [
        {
          "output_type": "stream",
          "name": "stdout",
          "text": [
            "Epoch 1/30\n",
            "\u001b[1m139/139\u001b[0m \u001b[32m━━━━━━━━━━━━━━━━━━━━\u001b[0m\u001b[37m\u001b[0m \u001b[1m4s\u001b[0m 17ms/step - accuracy: 0.4737 - loss: 1.3625 - val_accuracy: 0.7772 - val_loss: 0.7667\n",
            "Epoch 2/30\n",
            "\u001b[1m139/139\u001b[0m \u001b[32m━━━━━━━━━━━━━━━━━━━━\u001b[0m\u001b[37m\u001b[0m \u001b[1m2s\u001b[0m 16ms/step - accuracy: 0.7062 - loss: 0.8452 - val_accuracy: 0.8104 - val_loss: 0.6767\n",
            "Epoch 3/30\n",
            "\u001b[1m139/139\u001b[0m \u001b[32m━━━━━━━━━━━━━━━━━━━━\u001b[0m\u001b[37m\u001b[0m \u001b[1m2s\u001b[0m 15ms/step - accuracy: 0.7569 - loss: 0.6876 - val_accuracy: 0.7417 - val_loss: 0.8071\n",
            "Epoch 4/30\n",
            "\u001b[1m139/139\u001b[0m \u001b[32m━━━━━━━━━━━━━━━━━━━━\u001b[0m\u001b[37m\u001b[0m \u001b[1m2s\u001b[0m 14ms/step - accuracy: 0.7618 - loss: 0.6550 - val_accuracy: 0.7275 - val_loss: 0.8222\n",
            "Epoch 5/30\n",
            "\u001b[1m139/139\u001b[0m \u001b[32m━━━━━━━━━━━━━━━━━━━━\u001b[0m\u001b[37m\u001b[0m \u001b[1m3s\u001b[0m 14ms/step - accuracy: 0.7858 - loss: 0.5881 - val_accuracy: 0.7912 - val_loss: 0.7401\n",
            "Epoch 6/30\n",
            "\u001b[1m139/139\u001b[0m \u001b[32m━━━━━━━━━━━━━━━━━━━━\u001b[0m\u001b[37m\u001b[0m \u001b[1m2s\u001b[0m 13ms/step - accuracy: 0.8007 - loss: 0.5456 - val_accuracy: 0.7708 - val_loss: 0.7624\n",
            "Epoch 7/30\n",
            "\u001b[1m139/139\u001b[0m \u001b[32m━━━━━━━━━━━━━━━━━━━━\u001b[0m\u001b[37m\u001b[0m \u001b[1m2s\u001b[0m 14ms/step - accuracy: 0.7913 - loss: 0.5702 - val_accuracy: 0.7980 - val_loss: 0.6564\n",
            "Epoch 8/30\n",
            "\u001b[1m139/139\u001b[0m \u001b[32m━━━━━━━━━━━━━━━━━━━━\u001b[0m\u001b[37m\u001b[0m \u001b[1m3s\u001b[0m 18ms/step - accuracy: 0.7956 - loss: 0.5586 - val_accuracy: 0.7921 - val_loss: 0.6633\n",
            "Epoch 9/30\n",
            "\u001b[1m139/139\u001b[0m \u001b[32m━━━━━━━━━━━━━━━━━━━━\u001b[0m\u001b[37m\u001b[0m \u001b[1m2s\u001b[0m 14ms/step - accuracy: 0.8117 - loss: 0.5297 - val_accuracy: 0.7736 - val_loss: 0.7037\n",
            "Epoch 10/30\n",
            "\u001b[1m139/139\u001b[0m \u001b[32m━━━━━━━━━━━━━━━━━━━━\u001b[0m\u001b[37m\u001b[0m \u001b[1m2s\u001b[0m 13ms/step - accuracy: 0.8199 - loss: 0.4792 - val_accuracy: 0.6843 - val_loss: 0.8086\n",
            "Epoch 11/30\n",
            "\u001b[1m139/139\u001b[0m \u001b[32m━━━━━━━━━━━━━━━━━━━━\u001b[0m\u001b[37m\u001b[0m \u001b[1m2s\u001b[0m 14ms/step - accuracy: 0.8273 - loss: 0.4912 - val_accuracy: 0.7473 - val_loss: 0.7093\n",
            "Epoch 12/30\n",
            "\u001b[1m139/139\u001b[0m \u001b[32m━━━━━━━━━━━━━━━━━━━━\u001b[0m\u001b[37m\u001b[0m \u001b[1m2s\u001b[0m 13ms/step - accuracy: 0.8293 - loss: 0.4676 - val_accuracy: 0.7785 - val_loss: 0.6985\n",
            "Epoch 13/30\n",
            "\u001b[1m139/139\u001b[0m \u001b[32m━━━━━━━━━━━━━━━━━━━━\u001b[0m\u001b[37m\u001b[0m \u001b[1m3s\u001b[0m 14ms/step - accuracy: 0.8363 - loss: 0.4395 - val_accuracy: 0.6920 - val_loss: 0.8897\n",
            "Epoch 14/30\n",
            "\u001b[1m139/139\u001b[0m \u001b[32m━━━━━━━━━━━━━━━━━━━━\u001b[0m\u001b[37m\u001b[0m \u001b[1m2s\u001b[0m 18ms/step - accuracy: 0.8413 - loss: 0.4385 - val_accuracy: 0.6554 - val_loss: 0.9240\n",
            "Epoch 15/30\n",
            "\u001b[1m139/139\u001b[0m \u001b[32m━━━━━━━━━━━━━━━━━━━━\u001b[0m\u001b[37m\u001b[0m \u001b[1m2s\u001b[0m 14ms/step - accuracy: 0.8412 - loss: 0.4214 - val_accuracy: 0.7598 - val_loss: 0.7068\n",
            "Epoch 16/30\n",
            "\u001b[1m139/139\u001b[0m \u001b[32m━━━━━━━━━━━━━━━━━━━━\u001b[0m\u001b[37m\u001b[0m \u001b[1m2s\u001b[0m 13ms/step - accuracy: 0.8497 - loss: 0.4073 - val_accuracy: 0.7715 - val_loss: 0.7131\n",
            "Epoch 17/30\n",
            "\u001b[1m139/139\u001b[0m \u001b[32m━━━━━━━━━━━━━━━━━━━━\u001b[0m\u001b[37m\u001b[0m \u001b[1m3s\u001b[0m 14ms/step - accuracy: 0.8521 - loss: 0.4032 - val_accuracy: 0.7582 - val_loss: 0.7055\n",
            "Epoch 18/30\n",
            "\u001b[1m139/139\u001b[0m \u001b[32m━━━━━━━━━━━━━━━━━━━━\u001b[0m\u001b[37m\u001b[0m \u001b[1m3s\u001b[0m 14ms/step - accuracy: 0.8479 - loss: 0.4181 - val_accuracy: 0.7236 - val_loss: 0.8563\n",
            "Epoch 19/30\n",
            "\u001b[1m139/139\u001b[0m \u001b[32m━━━━━━━━━━━━━━━━━━━━\u001b[0m\u001b[37m\u001b[0m \u001b[1m2s\u001b[0m 15ms/step - accuracy: 0.8524 - loss: 0.4054 - val_accuracy: 0.7017 - val_loss: 0.8043\n",
            "Epoch 20/30\n",
            "\u001b[1m139/139\u001b[0m \u001b[32m━━━━━━━━━━━━━━━━━━━━\u001b[0m\u001b[37m\u001b[0m \u001b[1m3s\u001b[0m 16ms/step - accuracy: 0.8717 - loss: 0.3642 - val_accuracy: 0.7209 - val_loss: 0.7628\n",
            "Epoch 21/30\n",
            "\u001b[1m139/139\u001b[0m \u001b[32m━━━━━━━━━━━━━━━━━━━━\u001b[0m\u001b[37m\u001b[0m \u001b[1m2s\u001b[0m 14ms/step - accuracy: 0.8781 - loss: 0.3594 - val_accuracy: 0.7541 - val_loss: 0.6870\n",
            "Epoch 22/30\n",
            "\u001b[1m139/139\u001b[0m \u001b[32m━━━━━━━━━━━━━━━━━━━━\u001b[0m\u001b[37m\u001b[0m \u001b[1m2s\u001b[0m 13ms/step - accuracy: 0.8971 - loss: 0.3102 - val_accuracy: 0.7516 - val_loss: 0.6912\n",
            "Epoch 23/30\n",
            "\u001b[1m139/139\u001b[0m \u001b[32m━━━━━━━━━━━━━━━━━━━━\u001b[0m\u001b[37m\u001b[0m \u001b[1m2s\u001b[0m 13ms/step - accuracy: 0.9000 - loss: 0.2945 - val_accuracy: 0.7713 - val_loss: 0.6689\n",
            "Epoch 24/30\n",
            "\u001b[1m139/139\u001b[0m \u001b[32m━━━━━━━━━━━━━━━━━━━━\u001b[0m\u001b[37m\u001b[0m \u001b[1m3s\u001b[0m 14ms/step - accuracy: 0.9147 - loss: 0.2602 - val_accuracy: 0.7347 - val_loss: 0.7168\n",
            "Epoch 25/30\n",
            "\u001b[1m139/139\u001b[0m \u001b[32m━━━━━━━━━━━━━━━━━━━━\u001b[0m\u001b[37m\u001b[0m \u001b[1m3s\u001b[0m 17ms/step - accuracy: 0.9130 - loss: 0.2682 - val_accuracy: 0.7478 - val_loss: 0.7163\n",
            "Epoch 26/30\n",
            "\u001b[1m139/139\u001b[0m \u001b[32m━━━━━━━━━━━━━━━━━━━━\u001b[0m\u001b[37m\u001b[0m \u001b[1m2s\u001b[0m 14ms/step - accuracy: 0.9178 - loss: 0.2634 - val_accuracy: 0.7433 - val_loss: 0.7484\n",
            "Epoch 27/30\n",
            "\u001b[1m139/139\u001b[0m \u001b[32m━━━━━━━━━━━━━━━━━━━━\u001b[0m\u001b[37m\u001b[0m \u001b[1m2s\u001b[0m 15ms/step - accuracy: 0.9187 - loss: 0.2442 - val_accuracy: 0.7092 - val_loss: 0.8507\n",
            "Epoch 28/30\n",
            "\u001b[1m139/139\u001b[0m \u001b[32m━━━━━━━━━━━━━━━━━━━━\u001b[0m\u001b[37m\u001b[0m \u001b[1m3s\u001b[0m 15ms/step - accuracy: 0.9347 - loss: 0.1991 - val_accuracy: 0.7467 - val_loss: 0.8478\n",
            "Epoch 29/30\n",
            "\u001b[1m139/139\u001b[0m \u001b[32m━━━━━━━━━━━━━━━━━━━━\u001b[0m\u001b[37m\u001b[0m \u001b[1m2s\u001b[0m 14ms/step - accuracy: 0.9373 - loss: 0.1956 - val_accuracy: 0.7415 - val_loss: 0.7890\n",
            "Epoch 30/30\n",
            "\u001b[1m139/139\u001b[0m \u001b[32m━━━━━━━━━━━━━━━━━━━━\u001b[0m\u001b[37m\u001b[0m \u001b[1m3s\u001b[0m 16ms/step - accuracy: 0.9302 - loss: 0.2178 - val_accuracy: 0.7455 - val_loss: 0.7985\n"
          ]
        }
      ]
    },
    {
      "cell_type": "code",
      "source": [
        "\n",
        "# ================================================\n",
        "# 8) 평가\n",
        "# ================================================\n",
        "test_loss, test_acc = model.evaluate(X_test, y_test, verbose=0)\n",
        "print(f\"[Subject-wise Test] loss={test_loss:.4f}  acc={test_acc:.4f}\")\n",
        "\n",
        "y_pred_int = np.argmax(model.predict(X_test, verbose=0), axis=1)\n",
        "\n",
        "print(\"\\nClassification Report (Subject-wise)\")\n",
        "print(classification_report(y_test_int, y_pred_int, target_names=list(le.classes_)))\n",
        "\n",
        "cm = confusion_matrix(y_test_int, y_pred_int)\n",
        "print(\"\\nConfusion Matrix (rows=true, cols=pred):\\n\", cm)"
      ],
      "metadata": {
        "id": "ZfO64EYEbY3f",
        "colab": {
          "base_uri": "https://localhost:8080/"
        },
        "outputId": "243cb714-d004-49c7-9c43-7c6f4b6c4b78"
      },
      "execution_count": 60,
      "outputs": [
        {
          "output_type": "stream",
          "name": "stdout",
          "text": [
            "[Subject-wise Test] loss=0.4516  acc=0.8821\n",
            "\n",
            "Classification Report (Subject-wise)\n",
            "              precision    recall  f1-score   support\n",
            "\n",
            "  Downstairs       0.58      0.69      0.63       444\n",
            "     Jogging       1.00      0.88      0.94      1669\n",
            "     Sitting       0.90      0.99      0.95       354\n",
            "    Standing       0.96      0.86      0.91       252\n",
            "    Upstairs       0.67      0.82      0.73       498\n",
            "     Walking       0.93      0.93      0.93      1770\n",
            "\n",
            "    accuracy                           0.88      4987\n",
            "   macro avg       0.84      0.86      0.85      4987\n",
            "weighted avg       0.90      0.88      0.89      4987\n",
            "\n",
            "\n",
            "Confusion Matrix (rows=true, cols=pred):\n",
            " [[ 307    3    3    5   88   38]\n",
            " [  92 1472    0    0   57   48]\n",
            " [   0    0  352    2    0    0]\n",
            " [   0    0   34  216    2    0]\n",
            " [  60    0    0    2  406   30]\n",
            " [  68    1    0    0   55 1646]]\n"
          ]
        }
      ]
    }
  ]
}