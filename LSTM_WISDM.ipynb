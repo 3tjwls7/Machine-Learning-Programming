{
  "nbformat": 4,
  "nbformat_minor": 0,
  "metadata": {
    "colab": {
      "provenance": [],
      "gpuType": "T4"
    },
    "kernelspec": {
      "name": "python3",
      "display_name": "Python 3"
    },
    "language_info": {
      "name": "python"
    },
    "accelerator": "GPU"
  },
  "cells": [
    {
      "cell_type": "code",
      "source": [
        "# ================================================\n",
        "# 0) Imports\n",
        "# ================================================\n",
        "import numpy as np\n",
        "import pandas as pd\n",
        "from collections import Counter\n",
        "\n",
        "from sklearn.preprocessing import LabelEncoder, StandardScaler\n",
        "from sklearn.model_selection import train_test_split\n",
        "from sklearn.metrics import classification_report, confusion_matrix\n",
        "\n",
        "import tensorflow as tf\n",
        "from tensorflow.keras.models import Sequential\n",
        "from tensorflow.keras.layers import LSTM, Dropout, Dense\n",
        "from tensorflow.keras.utils import to_categorical"
      ],
      "metadata": {
        "id": "0O1WMg57a3Vw"
      },
      "execution_count": 13,
      "outputs": []
    },
    {
      "cell_type": "code",
      "source": [
        "# ================================================\n",
        "# 1) 데이터 로드 & 기본 전처리\n",
        "# ================================================\n",
        "cols = [\"subject\", \"label\", \"timestamp\", \"x\", \"y\", \"z\"]\n",
        "df = pd.read_csv(\n",
        "    \"/content/drive/MyDrive/data/WISDM_ar_v1.1_raw.txt\",\n",
        "    header=None, names=cols, on_bad_lines=\"skip\"\n",
        ").dropna()\n",
        "\n",
        "# z 끝 세미콜론 제거 + float 변환\n",
        "df[\"z\"] = df[\"z\"].astype(str).str.replace(\";\", \"\", regex=False).astype(float)\n",
        "df[\"x\"] = df[\"x\"].astype(float)\n",
        "df[\"y\"] = df[\"y\"].astype(float)\n",
        "\n",
        "print(\"샘플:\\n\", df.head(), \"\\n\")\n",
        "print(\"라벨 분포:\", Counter(df[\"label\"]))\n"
      ],
      "metadata": {
        "colab": {
          "base_uri": "https://localhost:8080/"
        },
        "id": "4V5D9oELa5Qm",
        "outputId": "152a9377-6aa4-487d-f053-01ec729a0ac3"
      },
      "execution_count": 14,
      "outputs": [
        {
          "output_type": "stream",
          "name": "stdout",
          "text": [
            "샘플:\n",
            "    subject    label       timestamp         x          y         z\n",
            "0       33  Jogging  49105962326000 -0.694638  12.680544  0.503953\n",
            "1       33  Jogging  49106062271000  5.012288  11.264028  0.953424\n",
            "2       33  Jogging  49106112167000  4.903325  10.882658 -0.081722\n",
            "3       33  Jogging  49106222305000 -0.612916  18.496431  3.023717\n",
            "4       33  Jogging  49106332290000 -1.184970  12.108489  7.205164 \n",
            "\n",
            "라벨 분포: Counter({'Walking': 418393, 'Jogging': 336445, 'Upstairs': 122869, 'Downstairs': 100425, 'Sitting': 59939, 'Standing': 48394})\n"
          ]
        }
      ]
    },
    {
      "cell_type": "code",
      "source": [
        "# ================================================\n",
        "# 2) Sliding Window (window=80, hop=100)\n",
        "#    최빈 라벨로 프레임 라벨 부여\n",
        "# ================================================\n",
        "Fs = 20\n",
        "frame_size = Fs*4 # 80\n",
        "hop_size = Fs*2 # 40 -> 50% 오버래핑\n",
        "\n",
        "N_FEATURES = 3\n",
        "\n",
        "def get_frames(df, frame_size, hop_size):\n",
        "    frames, labels = [], []\n",
        "    lab = df[\"label\"].to_numpy()\n",
        "    xv = df[\"x\"].to_numpy(); yv = df[\"y\"].to_numpy(); zv = df[\"z\"].to_numpy()\n",
        "\n",
        "    for i in range(0, len(df) - frame_size, hop_size):\n",
        "        x = xv[i:i+frame_size]\n",
        "        y = yv[i:i+frame_size]\n",
        "        z = zv[i:i+frame_size]\n",
        "\n",
        "        seg = lab[i:i+frame_size]\n",
        "        vals, counts = np.unique(seg, return_counts=True)\n",
        "        label = vals[np.argmax(counts)]  # 최빈값\n",
        "\n",
        "        frames.append([x, y, z])\n",
        "        labels.append(label)\n",
        "\n",
        "    frames = np.asarray(frames).reshape(-1, frame_size, N_FEATURES)\n",
        "    labels = np.asarray(labels)\n",
        "    return frames, labels\n",
        "\n",
        "X, y_raw = get_frames(df, frame_size, hop_size)\n",
        "print(\"X shape:\", X.shape)\n",
        "print(\"프레임 기준 라벨 분포:\", Counter(y_raw))"
      ],
      "metadata": {
        "colab": {
          "base_uri": "https://localhost:8080/"
        },
        "id": "_3CIIOWja_Rb",
        "outputId": "60260199-c755-4971-85ab-04e8b5bc1a33"
      },
      "execution_count": 23,
      "outputs": [
        {
          "output_type": "stream",
          "name": "stdout",
          "text": [
            "X shape: (27160, 80, 3)\n",
            "프레임 기준 라벨 분포: Counter({np.str_('Walking'): 10462, np.str_('Jogging'): 8412, np.str_('Upstairs'): 3068, np.str_('Downstairs'): 2513, np.str_('Sitting'): 1494, np.str_('Standing'): 1211})\n"
          ]
        }
      ]
    },
    {
      "cell_type": "code",
      "source": [
        "# ================================================\n",
        "# 3) 라벨 인코딩 (원-핫)\n",
        "# ================================================\n",
        "le = LabelEncoder()\n",
        "y_int = le.fit_transform(y_raw)\n",
        "num_classes = len(le.classes_)\n",
        "print(\"Classes:\", list(le.classes_))\n",
        "y = to_categorical(y_int, num_classes=num_classes)  # one-hot"
      ],
      "metadata": {
        "colab": {
          "base_uri": "https://localhost:8080/"
        },
        "id": "hnmckgEtbGx4",
        "outputId": "95f5df24-87c5-4f6a-861f-b93f2e9dfcb0"
      },
      "execution_count": 24,
      "outputs": [
        {
          "output_type": "stream",
          "name": "stdout",
          "text": [
            "Classes: [np.str_('Downstairs'), np.str_('Jogging'), np.str_('Sitting'), np.str_('Standing'), np.str_('Upstairs'), np.str_('Walking')]\n"
          ]
        }
      ]
    },
    {
      "cell_type": "code",
      "source": [
        "# ================================================\n",
        "# 4) Train/Test Split (랜덤, stratify)\n",
        "# ================================================\n",
        "X_train, X_test, y_train, y_test, y_int_train, y_int_test = train_test_split(\n",
        "    X, y, y_int, test_size=0.2, random_state=42, stratify=y_int\n",
        ")"
      ],
      "metadata": {
        "id": "ZD9R7KZSbIpv"
      },
      "execution_count": 25,
      "outputs": []
    },
    {
      "cell_type": "code",
      "source": [
        "# ================================================\n",
        "# 5) 표준화 (채널별, Train으로 fit → Train/Test transform)\n",
        "# ================================================\n",
        "scaler = StandardScaler()\n",
        "X_train_2d = X_train.reshape(-1, X_train.shape[-1])  # (N*T, 3)\n",
        "X_test_2d  = X_test.reshape(-1,  X_test.shape[-1])\n",
        "\n",
        "scaler.fit(X_train_2d)\n",
        "X_train = scaler.transform(X_train_2d).reshape(X_train.shape)\n",
        "X_test  = scaler.transform(X_test_2d ).reshape(X_test.shape)"
      ],
      "metadata": {
        "id": "CwNMI8b3bMDA"
      },
      "execution_count": 26,
      "outputs": []
    },
    {
      "cell_type": "code",
      "source": [
        "# ================================================\n",
        "# 6) LSTM 모델 (Sequential)\n",
        "#    LSTM(128)->Dropout(0.5)->LSTM(64)->Dropout(0.5)\n",
        "#    Dense(128)->Dropout(0.5)->Dense(num_classes, softmax)\n",
        "#    loss=categorical_crossentropy (원-핫)\n",
        "# ================================================\n",
        "def build_lstm(input_shape, num_classes):\n",
        "    model = Sequential()\n",
        "    model.add(LSTM(128, return_sequences=True, input_shape=input_shape))\n",
        "    model.add(Dropout(0.5))\n",
        "    model.add(LSTM(64))\n",
        "    model.add(Dropout(0.5))\n",
        "    model.add(Dense(128, activation=\"relu\"))\n",
        "    model.add(Dropout(0.5))\n",
        "    model.add(Dense(num_classes, activation=\"softmax\"))\n",
        "    model.compile(\n",
        "        optimizer=tf.keras.optimizers.Adam(1e-3),\n",
        "        loss=\"categorical_crossentropy\",  # one-hot 라벨\n",
        "        metrics=[\"accuracy\"]\n",
        "    )\n",
        "    return model\n",
        "\n",
        "model = build_lstm((frame_size, N_FEATURES), num_classes)\n",
        "model.summary()"
      ],
      "metadata": {
        "colab": {
          "base_uri": "https://localhost:8080/",
          "height": 420
        },
        "id": "rf1UK6iabOjm",
        "outputId": "e786da0b-91e8-4363-e0eb-70a1919e15f9"
      },
      "execution_count": 27,
      "outputs": [
        {
          "output_type": "stream",
          "name": "stderr",
          "text": [
            "/usr/local/lib/python3.12/dist-packages/keras/src/layers/rnn/rnn.py:199: UserWarning: Do not pass an `input_shape`/`input_dim` argument to a layer. When using Sequential models, prefer using an `Input(shape)` object as the first layer in the model instead.\n",
            "  super().__init__(**kwargs)\n"
          ]
        },
        {
          "output_type": "display_data",
          "data": {
            "text/plain": [
              "\u001b[1mModel: \"sequential_3\"\u001b[0m\n"
            ],
            "text/html": [
              "<pre style=\"white-space:pre;overflow-x:auto;line-height:normal;font-family:Menlo,'DejaVu Sans Mono',consolas,'Courier New',monospace\"><span style=\"font-weight: bold\">Model: \"sequential_3\"</span>\n",
              "</pre>\n"
            ]
          },
          "metadata": {}
        },
        {
          "output_type": "display_data",
          "data": {
            "text/plain": [
              "┏━━━━━━━━━━━━━━━━━━━━━━━━━━━━━━━━━┳━━━━━━━━━━━━━━━━━━━━━━━━┳━━━━━━━━━━━━━━━┓\n",
              "┃\u001b[1m \u001b[0m\u001b[1mLayer (type)                   \u001b[0m\u001b[1m \u001b[0m┃\u001b[1m \u001b[0m\u001b[1mOutput Shape          \u001b[0m\u001b[1m \u001b[0m┃\u001b[1m \u001b[0m\u001b[1m      Param #\u001b[0m\u001b[1m \u001b[0m┃\n",
              "┡━━━━━━━━━━━━━━━━━━━━━━━━━━━━━━━━━╇━━━━━━━━━━━━━━━━━━━━━━━━╇━━━━━━━━━━━━━━━┩\n",
              "│ lstm_6 (\u001b[38;5;33mLSTM\u001b[0m)                   │ (\u001b[38;5;45mNone\u001b[0m, \u001b[38;5;34m80\u001b[0m, \u001b[38;5;34m128\u001b[0m)        │        \u001b[38;5;34m67,584\u001b[0m │\n",
              "├─────────────────────────────────┼────────────────────────┼───────────────┤\n",
              "│ dropout_9 (\u001b[38;5;33mDropout\u001b[0m)             │ (\u001b[38;5;45mNone\u001b[0m, \u001b[38;5;34m80\u001b[0m, \u001b[38;5;34m128\u001b[0m)        │             \u001b[38;5;34m0\u001b[0m │\n",
              "├─────────────────────────────────┼────────────────────────┼───────────────┤\n",
              "│ lstm_7 (\u001b[38;5;33mLSTM\u001b[0m)                   │ (\u001b[38;5;45mNone\u001b[0m, \u001b[38;5;34m64\u001b[0m)             │        \u001b[38;5;34m49,408\u001b[0m │\n",
              "├─────────────────────────────────┼────────────────────────┼───────────────┤\n",
              "│ dropout_10 (\u001b[38;5;33mDropout\u001b[0m)            │ (\u001b[38;5;45mNone\u001b[0m, \u001b[38;5;34m64\u001b[0m)             │             \u001b[38;5;34m0\u001b[0m │\n",
              "├─────────────────────────────────┼────────────────────────┼───────────────┤\n",
              "│ dense_6 (\u001b[38;5;33mDense\u001b[0m)                 │ (\u001b[38;5;45mNone\u001b[0m, \u001b[38;5;34m128\u001b[0m)            │         \u001b[38;5;34m8,320\u001b[0m │\n",
              "├─────────────────────────────────┼────────────────────────┼───────────────┤\n",
              "│ dropout_11 (\u001b[38;5;33mDropout\u001b[0m)            │ (\u001b[38;5;45mNone\u001b[0m, \u001b[38;5;34m128\u001b[0m)            │             \u001b[38;5;34m0\u001b[0m │\n",
              "├─────────────────────────────────┼────────────────────────┼───────────────┤\n",
              "│ dense_7 (\u001b[38;5;33mDense\u001b[0m)                 │ (\u001b[38;5;45mNone\u001b[0m, \u001b[38;5;34m6\u001b[0m)              │           \u001b[38;5;34m774\u001b[0m │\n",
              "└─────────────────────────────────┴────────────────────────┴───────────────┘\n"
            ],
            "text/html": [
              "<pre style=\"white-space:pre;overflow-x:auto;line-height:normal;font-family:Menlo,'DejaVu Sans Mono',consolas,'Courier New',monospace\">┏━━━━━━━━━━━━━━━━━━━━━━━━━━━━━━━━━┳━━━━━━━━━━━━━━━━━━━━━━━━┳━━━━━━━━━━━━━━━┓\n",
              "┃<span style=\"font-weight: bold\"> Layer (type)                    </span>┃<span style=\"font-weight: bold\"> Output Shape           </span>┃<span style=\"font-weight: bold\">       Param # </span>┃\n",
              "┡━━━━━━━━━━━━━━━━━━━━━━━━━━━━━━━━━╇━━━━━━━━━━━━━━━━━━━━━━━━╇━━━━━━━━━━━━━━━┩\n",
              "│ lstm_6 (<span style=\"color: #0087ff; text-decoration-color: #0087ff\">LSTM</span>)                   │ (<span style=\"color: #00d7ff; text-decoration-color: #00d7ff\">None</span>, <span style=\"color: #00af00; text-decoration-color: #00af00\">80</span>, <span style=\"color: #00af00; text-decoration-color: #00af00\">128</span>)        │        <span style=\"color: #00af00; text-decoration-color: #00af00\">67,584</span> │\n",
              "├─────────────────────────────────┼────────────────────────┼───────────────┤\n",
              "│ dropout_9 (<span style=\"color: #0087ff; text-decoration-color: #0087ff\">Dropout</span>)             │ (<span style=\"color: #00d7ff; text-decoration-color: #00d7ff\">None</span>, <span style=\"color: #00af00; text-decoration-color: #00af00\">80</span>, <span style=\"color: #00af00; text-decoration-color: #00af00\">128</span>)        │             <span style=\"color: #00af00; text-decoration-color: #00af00\">0</span> │\n",
              "├─────────────────────────────────┼────────────────────────┼───────────────┤\n",
              "│ lstm_7 (<span style=\"color: #0087ff; text-decoration-color: #0087ff\">LSTM</span>)                   │ (<span style=\"color: #00d7ff; text-decoration-color: #00d7ff\">None</span>, <span style=\"color: #00af00; text-decoration-color: #00af00\">64</span>)             │        <span style=\"color: #00af00; text-decoration-color: #00af00\">49,408</span> │\n",
              "├─────────────────────────────────┼────────────────────────┼───────────────┤\n",
              "│ dropout_10 (<span style=\"color: #0087ff; text-decoration-color: #0087ff\">Dropout</span>)            │ (<span style=\"color: #00d7ff; text-decoration-color: #00d7ff\">None</span>, <span style=\"color: #00af00; text-decoration-color: #00af00\">64</span>)             │             <span style=\"color: #00af00; text-decoration-color: #00af00\">0</span> │\n",
              "├─────────────────────────────────┼────────────────────────┼───────────────┤\n",
              "│ dense_6 (<span style=\"color: #0087ff; text-decoration-color: #0087ff\">Dense</span>)                 │ (<span style=\"color: #00d7ff; text-decoration-color: #00d7ff\">None</span>, <span style=\"color: #00af00; text-decoration-color: #00af00\">128</span>)            │         <span style=\"color: #00af00; text-decoration-color: #00af00\">8,320</span> │\n",
              "├─────────────────────────────────┼────────────────────────┼───────────────┤\n",
              "│ dropout_11 (<span style=\"color: #0087ff; text-decoration-color: #0087ff\">Dropout</span>)            │ (<span style=\"color: #00d7ff; text-decoration-color: #00d7ff\">None</span>, <span style=\"color: #00af00; text-decoration-color: #00af00\">128</span>)            │             <span style=\"color: #00af00; text-decoration-color: #00af00\">0</span> │\n",
              "├─────────────────────────────────┼────────────────────────┼───────────────┤\n",
              "│ dense_7 (<span style=\"color: #0087ff; text-decoration-color: #0087ff\">Dense</span>)                 │ (<span style=\"color: #00d7ff; text-decoration-color: #00d7ff\">None</span>, <span style=\"color: #00af00; text-decoration-color: #00af00\">6</span>)              │           <span style=\"color: #00af00; text-decoration-color: #00af00\">774</span> │\n",
              "└─────────────────────────────────┴────────────────────────┴───────────────┘\n",
              "</pre>\n"
            ]
          },
          "metadata": {}
        },
        {
          "output_type": "display_data",
          "data": {
            "text/plain": [
              "\u001b[1m Total params: \u001b[0m\u001b[38;5;34m126,086\u001b[0m (492.52 KB)\n"
            ],
            "text/html": [
              "<pre style=\"white-space:pre;overflow-x:auto;line-height:normal;font-family:Menlo,'DejaVu Sans Mono',consolas,'Courier New',monospace\"><span style=\"font-weight: bold\"> Total params: </span><span style=\"color: #00af00; text-decoration-color: #00af00\">126,086</span> (492.52 KB)\n",
              "</pre>\n"
            ]
          },
          "metadata": {}
        },
        {
          "output_type": "display_data",
          "data": {
            "text/plain": [
              "\u001b[1m Trainable params: \u001b[0m\u001b[38;5;34m126,086\u001b[0m (492.52 KB)\n"
            ],
            "text/html": [
              "<pre style=\"white-space:pre;overflow-x:auto;line-height:normal;font-family:Menlo,'DejaVu Sans Mono',consolas,'Courier New',monospace\"><span style=\"font-weight: bold\"> Trainable params: </span><span style=\"color: #00af00; text-decoration-color: #00af00\">126,086</span> (492.52 KB)\n",
              "</pre>\n"
            ]
          },
          "metadata": {}
        },
        {
          "output_type": "display_data",
          "data": {
            "text/plain": [
              "\u001b[1m Non-trainable params: \u001b[0m\u001b[38;5;34m0\u001b[0m (0.00 B)\n"
            ],
            "text/html": [
              "<pre style=\"white-space:pre;overflow-x:auto;line-height:normal;font-family:Menlo,'DejaVu Sans Mono',consolas,'Courier New',monospace\"><span style=\"font-weight: bold\"> Non-trainable params: </span><span style=\"color: #00af00; text-decoration-color: #00af00\">0</span> (0.00 B)\n",
              "</pre>\n"
            ]
          },
          "metadata": {}
        }
      ]
    },
    {
      "cell_type": "code",
      "source": [
        "# ================================================\n",
        "# 7) 학습\n",
        "# ================================================\n",
        "\n",
        "history = model.fit(\n",
        "    X_train, y_train,\n",
        "    validation_split=0.2,\n",
        "    epochs=30,\n",
        "    batch_size=128,   # LSTM은 연산량↑ → 128 권장\n",
        "    verbose=1\n",
        ")\n"
      ],
      "metadata": {
        "colab": {
          "base_uri": "https://localhost:8080/"
        },
        "id": "VU8o4borbSDZ",
        "outputId": "df82e7b4-cd42-4eae-87c5-803abcb02203"
      },
      "execution_count": 28,
      "outputs": [
        {
          "output_type": "stream",
          "name": "stdout",
          "text": [
            "Epoch 1/30\n",
            "\u001b[1m136/136\u001b[0m \u001b[32m━━━━━━━━━━━━━━━━━━━━\u001b[0m\u001b[37m\u001b[0m \u001b[1m6s\u001b[0m 19ms/step - accuracy: 0.4825 - loss: 1.3601 - val_accuracy: 0.7248 - val_loss: 0.8241\n",
            "Epoch 2/30\n",
            "\u001b[1m136/136\u001b[0m \u001b[32m━━━━━━━━━━━━━━━━━━━━\u001b[0m\u001b[37m\u001b[0m \u001b[1m2s\u001b[0m 14ms/step - accuracy: 0.7208 - loss: 0.8421 - val_accuracy: 0.7145 - val_loss: 0.7911\n",
            "Epoch 3/30\n",
            "\u001b[1m136/136\u001b[0m \u001b[32m━━━━━━━━━━━━━━━━━━━━\u001b[0m\u001b[37m\u001b[0m \u001b[1m3s\u001b[0m 14ms/step - accuracy: 0.7492 - loss: 0.7227 - val_accuracy: 0.7918 - val_loss: 0.6014\n",
            "Epoch 4/30\n",
            "\u001b[1m136/136\u001b[0m \u001b[32m━━━━━━━━━━━━━━━━━━━━\u001b[0m\u001b[37m\u001b[0m \u001b[1m2s\u001b[0m 13ms/step - accuracy: 0.7768 - loss: 0.6382 - val_accuracy: 0.8088 - val_loss: 0.5403\n",
            "Epoch 5/30\n",
            "\u001b[1m136/136\u001b[0m \u001b[32m━━━━━━━━━━━━━━━━━━━━\u001b[0m\u001b[37m\u001b[0m \u001b[1m3s\u001b[0m 16ms/step - accuracy: 0.7894 - loss: 0.6072 - val_accuracy: 0.8113 - val_loss: 0.5341\n",
            "Epoch 6/30\n",
            "\u001b[1m136/136\u001b[0m \u001b[32m━━━━━━━━━━━━━━━━━━━━\u001b[0m\u001b[37m\u001b[0m \u001b[1m2s\u001b[0m 17ms/step - accuracy: 0.8001 - loss: 0.5733 - val_accuracy: 0.8173 - val_loss: 0.5020\n",
            "Epoch 7/30\n",
            "\u001b[1m136/136\u001b[0m \u001b[32m━━━━━━━━━━━━━━━━━━━━\u001b[0m\u001b[37m\u001b[0m \u001b[1m2s\u001b[0m 14ms/step - accuracy: 0.8097 - loss: 0.5477 - val_accuracy: 0.8178 - val_loss: 0.5285\n",
            "Epoch 8/30\n",
            "\u001b[1m136/136\u001b[0m \u001b[32m━━━━━━━━━━━━━━━━━━━━\u001b[0m\u001b[37m\u001b[0m \u001b[1m3s\u001b[0m 13ms/step - accuracy: 0.8047 - loss: 0.5551 - val_accuracy: 0.8152 - val_loss: 0.5436\n",
            "Epoch 9/30\n",
            "\u001b[1m136/136\u001b[0m \u001b[32m━━━━━━━━━━━━━━━━━━━━\u001b[0m\u001b[37m\u001b[0m \u001b[1m3s\u001b[0m 15ms/step - accuracy: 0.8136 - loss: 0.5353 - val_accuracy: 0.8214 - val_loss: 0.5088\n",
            "Epoch 10/30\n",
            "\u001b[1m136/136\u001b[0m \u001b[32m━━━━━━━━━━━━━━━━━━━━\u001b[0m\u001b[37m\u001b[0m \u001b[1m2s\u001b[0m 13ms/step - accuracy: 0.8199 - loss: 0.5203 - val_accuracy: 0.8394 - val_loss: 0.4461\n",
            "Epoch 11/30\n",
            "\u001b[1m136/136\u001b[0m \u001b[32m━━━━━━━━━━━━━━━━━━━━\u001b[0m\u001b[37m\u001b[0m \u001b[1m2s\u001b[0m 17ms/step - accuracy: 0.8264 - loss: 0.4958 - val_accuracy: 0.8320 - val_loss: 0.4740\n",
            "Epoch 12/30\n",
            "\u001b[1m136/136\u001b[0m \u001b[32m━━━━━━━━━━━━━━━━━━━━\u001b[0m\u001b[37m\u001b[0m \u001b[1m2s\u001b[0m 15ms/step - accuracy: 0.8296 - loss: 0.4804 - val_accuracy: 0.8456 - val_loss: 0.4333\n",
            "Epoch 13/30\n",
            "\u001b[1m136/136\u001b[0m \u001b[32m━━━━━━━━━━━━━━━━━━━━\u001b[0m\u001b[37m\u001b[0m \u001b[1m2s\u001b[0m 14ms/step - accuracy: 0.8316 - loss: 0.4722 - val_accuracy: 0.8502 - val_loss: 0.4059\n",
            "Epoch 14/30\n",
            "\u001b[1m136/136\u001b[0m \u001b[32m━━━━━━━━━━━━━━━━━━━━\u001b[0m\u001b[37m\u001b[0m \u001b[1m2s\u001b[0m 13ms/step - accuracy: 0.8305 - loss: 0.4599 - val_accuracy: 0.8534 - val_loss: 0.4007\n",
            "Epoch 15/30\n",
            "\u001b[1m136/136\u001b[0m \u001b[32m━━━━━━━━━━━━━━━━━━━━\u001b[0m\u001b[37m\u001b[0m \u001b[1m2s\u001b[0m 13ms/step - accuracy: 0.8264 - loss: 0.5027 - val_accuracy: 0.8497 - val_loss: 0.4234\n",
            "Epoch 16/30\n",
            "\u001b[1m136/136\u001b[0m \u001b[32m━━━━━━━━━━━━━━━━━━━━\u001b[0m\u001b[37m\u001b[0m \u001b[1m3s\u001b[0m 13ms/step - accuracy: 0.8448 - loss: 0.4218 - val_accuracy: 0.8543 - val_loss: 0.3977\n",
            "Epoch 17/30\n",
            "\u001b[1m136/136\u001b[0m \u001b[32m━━━━━━━━━━━━━━━━━━━━\u001b[0m\u001b[37m\u001b[0m \u001b[1m2s\u001b[0m 17ms/step - accuracy: 0.8475 - loss: 0.4206 - val_accuracy: 0.8610 - val_loss: 0.3775\n",
            "Epoch 18/30\n",
            "\u001b[1m136/136\u001b[0m \u001b[32m━━━━━━━━━━━━━━━━━━━━\u001b[0m\u001b[37m\u001b[0m \u001b[1m2s\u001b[0m 17ms/step - accuracy: 0.8552 - loss: 0.3949 - val_accuracy: 0.8767 - val_loss: 0.3281\n",
            "Epoch 19/30\n",
            "\u001b[1m136/136\u001b[0m \u001b[32m━━━━━━━━━━━━━━━━━━━━\u001b[0m\u001b[37m\u001b[0m \u001b[1m2s\u001b[0m 14ms/step - accuracy: 0.8677 - loss: 0.3731 - val_accuracy: 0.8886 - val_loss: 0.3174\n",
            "Epoch 20/30\n",
            "\u001b[1m136/136\u001b[0m \u001b[32m━━━━━━━━━━━━━━━━━━━━\u001b[0m\u001b[37m\u001b[0m \u001b[1m2s\u001b[0m 13ms/step - accuracy: 0.8825 - loss: 0.3402 - val_accuracy: 0.8944 - val_loss: 0.2943\n",
            "Epoch 21/30\n",
            "\u001b[1m136/136\u001b[0m \u001b[32m━━━━━━━━━━━━━━━━━━━━\u001b[0m\u001b[37m\u001b[0m \u001b[1m2s\u001b[0m 14ms/step - accuracy: 0.8956 - loss: 0.3094 - val_accuracy: 0.9054 - val_loss: 0.2638\n",
            "Epoch 22/30\n",
            "\u001b[1m136/136\u001b[0m \u001b[32m━━━━━━━━━━━━━━━━━━━━\u001b[0m\u001b[37m\u001b[0m \u001b[1m3s\u001b[0m 14ms/step - accuracy: 0.9035 - loss: 0.2949 - val_accuracy: 0.9123 - val_loss: 0.2488\n",
            "Epoch 23/30\n",
            "\u001b[1m136/136\u001b[0m \u001b[32m━━━━━━━━━━━━━━━━━━━━\u001b[0m\u001b[37m\u001b[0m \u001b[1m2s\u001b[0m 16ms/step - accuracy: 0.9090 - loss: 0.2757 - val_accuracy: 0.9070 - val_loss: 0.2697\n",
            "Epoch 24/30\n",
            "\u001b[1m136/136\u001b[0m \u001b[32m━━━━━━━━━━━━━━━━━━━━\u001b[0m\u001b[37m\u001b[0m \u001b[1m2s\u001b[0m 18ms/step - accuracy: 0.9140 - loss: 0.2641 - val_accuracy: 0.9167 - val_loss: 0.2477\n",
            "Epoch 25/30\n",
            "\u001b[1m136/136\u001b[0m \u001b[32m━━━━━━━━━━━━━━━━━━━━\u001b[0m\u001b[37m\u001b[0m \u001b[1m2s\u001b[0m 13ms/step - accuracy: 0.9166 - loss: 0.2465 - val_accuracy: 0.9280 - val_loss: 0.2056\n",
            "Epoch 26/30\n",
            "\u001b[1m136/136\u001b[0m \u001b[32m━━━━━━━━━━━━━━━━━━━━\u001b[0m\u001b[37m\u001b[0m \u001b[1m2s\u001b[0m 14ms/step - accuracy: 0.9266 - loss: 0.2247 - val_accuracy: 0.9328 - val_loss: 0.1933\n",
            "Epoch 27/30\n",
            "\u001b[1m136/136\u001b[0m \u001b[32m━━━━━━━━━━━━━━━━━━━━\u001b[0m\u001b[37m\u001b[0m \u001b[1m2s\u001b[0m 14ms/step - accuracy: 0.9309 - loss: 0.2134 - val_accuracy: 0.9257 - val_loss: 0.2223\n",
            "Epoch 28/30\n",
            "\u001b[1m136/136\u001b[0m \u001b[32m━━━━━━━━━━━━━━━━━━━━\u001b[0m\u001b[37m\u001b[0m \u001b[1m2s\u001b[0m 14ms/step - accuracy: 0.9307 - loss: 0.2063 - val_accuracy: 0.9248 - val_loss: 0.2054\n",
            "Epoch 29/30\n",
            "\u001b[1m136/136\u001b[0m \u001b[32m━━━━━━━━━━━━━━━━━━━━\u001b[0m\u001b[37m\u001b[0m \u001b[1m3s\u001b[0m 17ms/step - accuracy: 0.9357 - loss: 0.1974 - val_accuracy: 0.9349 - val_loss: 0.1899\n",
            "Epoch 30/30\n",
            "\u001b[1m136/136\u001b[0m \u001b[32m━━━━━━━━━━━━━━━━━━━━\u001b[0m\u001b[37m\u001b[0m \u001b[1m2s\u001b[0m 17ms/step - accuracy: 0.9370 - loss: 0.1904 - val_accuracy: 0.9363 - val_loss: 0.1849\n"
          ]
        }
      ]
    },
    {
      "cell_type": "code",
      "source": [
        "# ================================================\n",
        "# 8) 평가\n",
        "# ================================================\n",
        "test_loss, test_acc = model.evaluate(X_test, y_test, verbose=0)\n",
        "print(f\"[Test] loss={test_loss:.4f}  acc={test_acc:.4f}\")\n",
        "\n",
        "y_pred_int = np.argmax(model.predict(X_test, verbose=0), axis=1)\n",
        "\n",
        "print(\"\\nClassification Report\")\n",
        "print(classification_report(y_int_test, y_pred_int, target_names=list(le.classes_)))\n",
        "\n",
        "cm = confusion_matrix(y_int_test, y_pred_int)\n",
        "print(\"\\nConfusion Matrix (rows=true, cols=pred):\\n\", cm)"
      ],
      "metadata": {
        "colab": {
          "base_uri": "https://localhost:8080/"
        },
        "id": "ZfO64EYEbY3f",
        "outputId": "51142614-1768-4b27-eb41-e0e6be8bba21"
      },
      "execution_count": 29,
      "outputs": [
        {
          "output_type": "stream",
          "name": "stdout",
          "text": [
            "[Test] loss=0.1720  acc=0.9439\n",
            "\n",
            "Classification Report\n",
            "              precision    recall  f1-score   support\n",
            "\n",
            "  Downstairs       0.80      0.85      0.82       503\n",
            "     Jogging       0.98      0.98      0.98      1682\n",
            "     Sitting       0.99      0.94      0.97       299\n",
            "    Standing       0.93      0.99      0.96       242\n",
            "    Upstairs       0.87      0.80      0.84       614\n",
            "     Walking       0.96      0.97      0.97      2092\n",
            "\n",
            "    accuracy                           0.94      5432\n",
            "   macro avg       0.92      0.92      0.92      5432\n",
            "weighted avg       0.94      0.94      0.94      5432\n",
            "\n",
            "\n",
            "Confusion Matrix (rows=true, cols=pred):\n",
            " [[ 428    0    0    1   43   31]\n",
            " [  12 1656    0    0    5    9]\n",
            " [   3    0  282   14    0    0]\n",
            " [   1    0    1  240    0    0]\n",
            " [  58   26    1    2  492   35]\n",
            " [  35    4    0    1   23 2029]]\n"
          ]
        }
      ]
    }
  ]
}