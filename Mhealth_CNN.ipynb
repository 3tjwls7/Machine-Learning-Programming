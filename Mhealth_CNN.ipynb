{
  "nbformat": 4,
  "nbformat_minor": 0,
  "metadata": {
    "colab": {
      "provenance": [],
      "gpuType": "T4"
    },
    "kernelspec": {
      "name": "python3",
      "display_name": "Python 3"
    },
    "language_info": {
      "name": "python"
    },
    "accelerator": "GPU"
  },
  "cells": [
    {
      "cell_type": "code",
      "source": [
        "# ==============================================\n",
        "# 0) CSV 불러오기\n",
        "# ==============================================\n",
        "import pandas as pd\n",
        "\n",
        "df = pd.read_csv(\"/content/drive/MyDrive/mhealth_dataset_combined.csv\")\n",
        "print(\"data:\", df.shape, \"subjects:\", sorted(df.subject.unique()))\n",
        "df"
      ],
      "metadata": {
        "colab": {
          "base_uri": "https://localhost:8080/",
          "height": 462
        },
        "id": "IWrvS3bdHmih",
        "outputId": "44fd7214-8ce3-4651-c9c3-d499e4a14bf9"
      },
      "execution_count": 1,
      "outputs": [
        {
          "output_type": "stream",
          "name": "stdout",
          "text": [
            "data: (1215745, 25) subjects: [np.int64(1), np.int64(2), np.int64(3), np.int64(4), np.int64(5), np.int64(6), np.int64(7), np.int64(8), np.int64(9), np.int64(10)]\n"
          ]
        },
        {
          "output_type": "execute_result",
          "data": {
            "text/plain": [
              "         chest_acc_x  chest_acc_y  chest_acc_z     ecg_1     ecg_2  \\\n",
              "0            -9.8184     0.009971     0.295630  0.004186  0.004186   \n",
              "1            -9.8489     0.524040     0.373480  0.004186  0.016745   \n",
              "2            -9.6602     0.181850     0.437420  0.016745  0.037677   \n",
              "3            -9.6507     0.214220     0.240330  0.079540  0.117220   \n",
              "4            -9.7030     0.303890     0.311560  0.221870  0.205130   \n",
              "...              ...          ...          ...       ...       ...   \n",
              "1215740     -12.2440    -2.970600    -0.035772  0.812140  1.096800   \n",
              "1215741     -10.9220    -3.419000    -0.339280  1.469400  1.285200   \n",
              "1215742      -9.4842    -3.064300    -1.033700  0.238620  0.891680   \n",
              "1215743      -8.7889    -2.475700    -0.612290 -0.205130  0.460490   \n",
              "1215744      -8.6851    -1.098500     0.153770  0.318160  0.908420   \n",
              "\n",
              "         l_ankle_acc_x  l_ankle_acc_y  l_ankle_acc_z  l_ankle_gyro_x  \\\n",
              "0              2.18490        -9.6967        0.63077        0.103900   \n",
              "1              2.38760        -9.5080        0.68389        0.085343   \n",
              "2              2.40860        -9.5674        0.68113        0.085343   \n",
              "3              2.18140        -9.4301        0.55031        0.085343   \n",
              "4              2.41730        -9.3889        0.71098        0.085343   \n",
              "...                ...            ...            ...             ...   \n",
              "1215740        0.57061        -2.5602        0.41936       -0.055659   \n",
              "1215741        5.26840        -4.9331        9.66020       -0.055659   \n",
              "1215742        0.53805        -5.9706        2.93600       -0.055659   \n",
              "1215743        1.56950        -7.9809       -2.05000       -0.085343   \n",
              "1215744        3.43700       -10.8690        2.22010       -0.085343   \n",
              "\n",
              "         l_ankle_gyro_y  ...  r_arm_acc_y  r_arm_acc_z  r_arm_gyro_x  \\\n",
              "0              -0.84053  ...      -4.5781     0.187760      -0.44902   \n",
              "1              -0.83865  ...      -4.3198     0.023595      -0.44902   \n",
              "2              -0.83865  ...      -4.2772     0.275720      -0.44902   \n",
              "3              -0.83865  ...      -4.3163     0.367520      -0.45686   \n",
              "4              -0.83865  ...      -4.1459     0.407290      -0.45686   \n",
              "...                 ...  ...          ...          ...           ...   \n",
              "1215740         0.64165  ...     -16.9660     2.370400       0.10980   \n",
              "1215741         0.64165  ...     -13.3900     2.997200       0.10980   \n",
              "1215742         0.64165  ...     -11.3790     3.149800       0.10980   \n",
              "1215743         0.43715  ...     -10.0000     3.000000       0.11961   \n",
              "1215744         0.43715  ...      -8.9374     3.261500       0.11961   \n",
              "\n",
              "         r_arm_gyro_y  r_arm_gyro_z  r_arm_mag_x  r_arm_mag_y  r_arm_mag_z  \\\n",
              "0            -1.01030      0.034483     -2.35000    -1.610200    -0.030899   \n",
              "1            -1.01030      0.034483     -2.16320    -0.882540     0.326570   \n",
              "2            -1.01030      0.034483     -1.61750    -0.165620    -0.030693   \n",
              "3            -1.00820      0.025862     -1.07710     0.006945    -0.382620   \n",
              "4            -1.00820      0.025862     -0.53684     0.175900    -1.095500   \n",
              "...               ...           ...          ...          ...          ...   \n",
              "1215740      -0.99384      0.191810     -6.12870    15.495000    18.856000   \n",
              "1215741      -0.99384      0.191810    -10.24200    17.139000    33.920000   \n",
              "1215742      -0.99384      0.191810    -12.94400    16.170000    43.262000   \n",
              "1215743      -0.97331      0.153020    -14.52400     1.849400    43.373000   \n",
              "1215744      -0.97331      0.153020    -14.16200   -15.833000    35.976000   \n",
              "\n",
              "         label  subject  \n",
              "0            0        1  \n",
              "1            0        1  \n",
              "2            0        1  \n",
              "3            0        1  \n",
              "4            0        1  \n",
              "...        ...      ...  \n",
              "1215740      0        9  \n",
              "1215741      0        9  \n",
              "1215742      0        9  \n",
              "1215743      0        9  \n",
              "1215744      0        9  \n",
              "\n",
              "[1215745 rows x 25 columns]"
            ],
            "text/html": [
              "\n",
              "  <div id=\"df-6db05507-f566-4f7e-ac88-835925fdc80a\" class=\"colab-df-container\">\n",
              "    <div>\n",
              "<style scoped>\n",
              "    .dataframe tbody tr th:only-of-type {\n",
              "        vertical-align: middle;\n",
              "    }\n",
              "\n",
              "    .dataframe tbody tr th {\n",
              "        vertical-align: top;\n",
              "    }\n",
              "\n",
              "    .dataframe thead th {\n",
              "        text-align: right;\n",
              "    }\n",
              "</style>\n",
              "<table border=\"1\" class=\"dataframe\">\n",
              "  <thead>\n",
              "    <tr style=\"text-align: right;\">\n",
              "      <th></th>\n",
              "      <th>chest_acc_x</th>\n",
              "      <th>chest_acc_y</th>\n",
              "      <th>chest_acc_z</th>\n",
              "      <th>ecg_1</th>\n",
              "      <th>ecg_2</th>\n",
              "      <th>l_ankle_acc_x</th>\n",
              "      <th>l_ankle_acc_y</th>\n",
              "      <th>l_ankle_acc_z</th>\n",
              "      <th>l_ankle_gyro_x</th>\n",
              "      <th>l_ankle_gyro_y</th>\n",
              "      <th>...</th>\n",
              "      <th>r_arm_acc_y</th>\n",
              "      <th>r_arm_acc_z</th>\n",
              "      <th>r_arm_gyro_x</th>\n",
              "      <th>r_arm_gyro_y</th>\n",
              "      <th>r_arm_gyro_z</th>\n",
              "      <th>r_arm_mag_x</th>\n",
              "      <th>r_arm_mag_y</th>\n",
              "      <th>r_arm_mag_z</th>\n",
              "      <th>label</th>\n",
              "      <th>subject</th>\n",
              "    </tr>\n",
              "  </thead>\n",
              "  <tbody>\n",
              "    <tr>\n",
              "      <th>0</th>\n",
              "      <td>-9.8184</td>\n",
              "      <td>0.009971</td>\n",
              "      <td>0.295630</td>\n",
              "      <td>0.004186</td>\n",
              "      <td>0.004186</td>\n",
              "      <td>2.18490</td>\n",
              "      <td>-9.6967</td>\n",
              "      <td>0.63077</td>\n",
              "      <td>0.103900</td>\n",
              "      <td>-0.84053</td>\n",
              "      <td>...</td>\n",
              "      <td>-4.5781</td>\n",
              "      <td>0.187760</td>\n",
              "      <td>-0.44902</td>\n",
              "      <td>-1.01030</td>\n",
              "      <td>0.034483</td>\n",
              "      <td>-2.35000</td>\n",
              "      <td>-1.610200</td>\n",
              "      <td>-0.030899</td>\n",
              "      <td>0</td>\n",
              "      <td>1</td>\n",
              "    </tr>\n",
              "    <tr>\n",
              "      <th>1</th>\n",
              "      <td>-9.8489</td>\n",
              "      <td>0.524040</td>\n",
              "      <td>0.373480</td>\n",
              "      <td>0.004186</td>\n",
              "      <td>0.016745</td>\n",
              "      <td>2.38760</td>\n",
              "      <td>-9.5080</td>\n",
              "      <td>0.68389</td>\n",
              "      <td>0.085343</td>\n",
              "      <td>-0.83865</td>\n",
              "      <td>...</td>\n",
              "      <td>-4.3198</td>\n",
              "      <td>0.023595</td>\n",
              "      <td>-0.44902</td>\n",
              "      <td>-1.01030</td>\n",
              "      <td>0.034483</td>\n",
              "      <td>-2.16320</td>\n",
              "      <td>-0.882540</td>\n",
              "      <td>0.326570</td>\n",
              "      <td>0</td>\n",
              "      <td>1</td>\n",
              "    </tr>\n",
              "    <tr>\n",
              "      <th>2</th>\n",
              "      <td>-9.6602</td>\n",
              "      <td>0.181850</td>\n",
              "      <td>0.437420</td>\n",
              "      <td>0.016745</td>\n",
              "      <td>0.037677</td>\n",
              "      <td>2.40860</td>\n",
              "      <td>-9.5674</td>\n",
              "      <td>0.68113</td>\n",
              "      <td>0.085343</td>\n",
              "      <td>-0.83865</td>\n",
              "      <td>...</td>\n",
              "      <td>-4.2772</td>\n",
              "      <td>0.275720</td>\n",
              "      <td>-0.44902</td>\n",
              "      <td>-1.01030</td>\n",
              "      <td>0.034483</td>\n",
              "      <td>-1.61750</td>\n",
              "      <td>-0.165620</td>\n",
              "      <td>-0.030693</td>\n",
              "      <td>0</td>\n",
              "      <td>1</td>\n",
              "    </tr>\n",
              "    <tr>\n",
              "      <th>3</th>\n",
              "      <td>-9.6507</td>\n",
              "      <td>0.214220</td>\n",
              "      <td>0.240330</td>\n",
              "      <td>0.079540</td>\n",
              "      <td>0.117220</td>\n",
              "      <td>2.18140</td>\n",
              "      <td>-9.4301</td>\n",
              "      <td>0.55031</td>\n",
              "      <td>0.085343</td>\n",
              "      <td>-0.83865</td>\n",
              "      <td>...</td>\n",
              "      <td>-4.3163</td>\n",
              "      <td>0.367520</td>\n",
              "      <td>-0.45686</td>\n",
              "      <td>-1.00820</td>\n",
              "      <td>0.025862</td>\n",
              "      <td>-1.07710</td>\n",
              "      <td>0.006945</td>\n",
              "      <td>-0.382620</td>\n",
              "      <td>0</td>\n",
              "      <td>1</td>\n",
              "    </tr>\n",
              "    <tr>\n",
              "      <th>4</th>\n",
              "      <td>-9.7030</td>\n",
              "      <td>0.303890</td>\n",
              "      <td>0.311560</td>\n",
              "      <td>0.221870</td>\n",
              "      <td>0.205130</td>\n",
              "      <td>2.41730</td>\n",
              "      <td>-9.3889</td>\n",
              "      <td>0.71098</td>\n",
              "      <td>0.085343</td>\n",
              "      <td>-0.83865</td>\n",
              "      <td>...</td>\n",
              "      <td>-4.1459</td>\n",
              "      <td>0.407290</td>\n",
              "      <td>-0.45686</td>\n",
              "      <td>-1.00820</td>\n",
              "      <td>0.025862</td>\n",
              "      <td>-0.53684</td>\n",
              "      <td>0.175900</td>\n",
              "      <td>-1.095500</td>\n",
              "      <td>0</td>\n",
              "      <td>1</td>\n",
              "    </tr>\n",
              "    <tr>\n",
              "      <th>...</th>\n",
              "      <td>...</td>\n",
              "      <td>...</td>\n",
              "      <td>...</td>\n",
              "      <td>...</td>\n",
              "      <td>...</td>\n",
              "      <td>...</td>\n",
              "      <td>...</td>\n",
              "      <td>...</td>\n",
              "      <td>...</td>\n",
              "      <td>...</td>\n",
              "      <td>...</td>\n",
              "      <td>...</td>\n",
              "      <td>...</td>\n",
              "      <td>...</td>\n",
              "      <td>...</td>\n",
              "      <td>...</td>\n",
              "      <td>...</td>\n",
              "      <td>...</td>\n",
              "      <td>...</td>\n",
              "      <td>...</td>\n",
              "      <td>...</td>\n",
              "    </tr>\n",
              "    <tr>\n",
              "      <th>1215740</th>\n",
              "      <td>-12.2440</td>\n",
              "      <td>-2.970600</td>\n",
              "      <td>-0.035772</td>\n",
              "      <td>0.812140</td>\n",
              "      <td>1.096800</td>\n",
              "      <td>0.57061</td>\n",
              "      <td>-2.5602</td>\n",
              "      <td>0.41936</td>\n",
              "      <td>-0.055659</td>\n",
              "      <td>0.64165</td>\n",
              "      <td>...</td>\n",
              "      <td>-16.9660</td>\n",
              "      <td>2.370400</td>\n",
              "      <td>0.10980</td>\n",
              "      <td>-0.99384</td>\n",
              "      <td>0.191810</td>\n",
              "      <td>-6.12870</td>\n",
              "      <td>15.495000</td>\n",
              "      <td>18.856000</td>\n",
              "      <td>0</td>\n",
              "      <td>9</td>\n",
              "    </tr>\n",
              "    <tr>\n",
              "      <th>1215741</th>\n",
              "      <td>-10.9220</td>\n",
              "      <td>-3.419000</td>\n",
              "      <td>-0.339280</td>\n",
              "      <td>1.469400</td>\n",
              "      <td>1.285200</td>\n",
              "      <td>5.26840</td>\n",
              "      <td>-4.9331</td>\n",
              "      <td>9.66020</td>\n",
              "      <td>-0.055659</td>\n",
              "      <td>0.64165</td>\n",
              "      <td>...</td>\n",
              "      <td>-13.3900</td>\n",
              "      <td>2.997200</td>\n",
              "      <td>0.10980</td>\n",
              "      <td>-0.99384</td>\n",
              "      <td>0.191810</td>\n",
              "      <td>-10.24200</td>\n",
              "      <td>17.139000</td>\n",
              "      <td>33.920000</td>\n",
              "      <td>0</td>\n",
              "      <td>9</td>\n",
              "    </tr>\n",
              "    <tr>\n",
              "      <th>1215742</th>\n",
              "      <td>-9.4842</td>\n",
              "      <td>-3.064300</td>\n",
              "      <td>-1.033700</td>\n",
              "      <td>0.238620</td>\n",
              "      <td>0.891680</td>\n",
              "      <td>0.53805</td>\n",
              "      <td>-5.9706</td>\n",
              "      <td>2.93600</td>\n",
              "      <td>-0.055659</td>\n",
              "      <td>0.64165</td>\n",
              "      <td>...</td>\n",
              "      <td>-11.3790</td>\n",
              "      <td>3.149800</td>\n",
              "      <td>0.10980</td>\n",
              "      <td>-0.99384</td>\n",
              "      <td>0.191810</td>\n",
              "      <td>-12.94400</td>\n",
              "      <td>16.170000</td>\n",
              "      <td>43.262000</td>\n",
              "      <td>0</td>\n",
              "      <td>9</td>\n",
              "    </tr>\n",
              "    <tr>\n",
              "      <th>1215743</th>\n",
              "      <td>-8.7889</td>\n",
              "      <td>-2.475700</td>\n",
              "      <td>-0.612290</td>\n",
              "      <td>-0.205130</td>\n",
              "      <td>0.460490</td>\n",
              "      <td>1.56950</td>\n",
              "      <td>-7.9809</td>\n",
              "      <td>-2.05000</td>\n",
              "      <td>-0.085343</td>\n",
              "      <td>0.43715</td>\n",
              "      <td>...</td>\n",
              "      <td>-10.0000</td>\n",
              "      <td>3.000000</td>\n",
              "      <td>0.11961</td>\n",
              "      <td>-0.97331</td>\n",
              "      <td>0.153020</td>\n",
              "      <td>-14.52400</td>\n",
              "      <td>1.849400</td>\n",
              "      <td>43.373000</td>\n",
              "      <td>0</td>\n",
              "      <td>9</td>\n",
              "    </tr>\n",
              "    <tr>\n",
              "      <th>1215744</th>\n",
              "      <td>-8.6851</td>\n",
              "      <td>-1.098500</td>\n",
              "      <td>0.153770</td>\n",
              "      <td>0.318160</td>\n",
              "      <td>0.908420</td>\n",
              "      <td>3.43700</td>\n",
              "      <td>-10.8690</td>\n",
              "      <td>2.22010</td>\n",
              "      <td>-0.085343</td>\n",
              "      <td>0.43715</td>\n",
              "      <td>...</td>\n",
              "      <td>-8.9374</td>\n",
              "      <td>3.261500</td>\n",
              "      <td>0.11961</td>\n",
              "      <td>-0.97331</td>\n",
              "      <td>0.153020</td>\n",
              "      <td>-14.16200</td>\n",
              "      <td>-15.833000</td>\n",
              "      <td>35.976000</td>\n",
              "      <td>0</td>\n",
              "      <td>9</td>\n",
              "    </tr>\n",
              "  </tbody>\n",
              "</table>\n",
              "<p>1215745 rows × 25 columns</p>\n",
              "</div>\n",
              "    <div class=\"colab-df-buttons\">\n",
              "\n",
              "  <div class=\"colab-df-container\">\n",
              "    <button class=\"colab-df-convert\" onclick=\"convertToInteractive('df-6db05507-f566-4f7e-ac88-835925fdc80a')\"\n",
              "            title=\"Convert this dataframe to an interactive table.\"\n",
              "            style=\"display:none;\">\n",
              "\n",
              "  <svg xmlns=\"http://www.w3.org/2000/svg\" height=\"24px\" viewBox=\"0 -960 960 960\">\n",
              "    <path d=\"M120-120v-720h720v720H120Zm60-500h600v-160H180v160Zm220 220h160v-160H400v160Zm0 220h160v-160H400v160ZM180-400h160v-160H180v160Zm440 0h160v-160H620v160ZM180-180h160v-160H180v160Zm440 0h160v-160H620v160Z\"/>\n",
              "  </svg>\n",
              "    </button>\n",
              "\n",
              "  <style>\n",
              "    .colab-df-container {\n",
              "      display:flex;\n",
              "      gap: 12px;\n",
              "    }\n",
              "\n",
              "    .colab-df-convert {\n",
              "      background-color: #E8F0FE;\n",
              "      border: none;\n",
              "      border-radius: 50%;\n",
              "      cursor: pointer;\n",
              "      display: none;\n",
              "      fill: #1967D2;\n",
              "      height: 32px;\n",
              "      padding: 0 0 0 0;\n",
              "      width: 32px;\n",
              "    }\n",
              "\n",
              "    .colab-df-convert:hover {\n",
              "      background-color: #E2EBFA;\n",
              "      box-shadow: 0px 1px 2px rgba(60, 64, 67, 0.3), 0px 1px 3px 1px rgba(60, 64, 67, 0.15);\n",
              "      fill: #174EA6;\n",
              "    }\n",
              "\n",
              "    .colab-df-buttons div {\n",
              "      margin-bottom: 4px;\n",
              "    }\n",
              "\n",
              "    [theme=dark] .colab-df-convert {\n",
              "      background-color: #3B4455;\n",
              "      fill: #D2E3FC;\n",
              "    }\n",
              "\n",
              "    [theme=dark] .colab-df-convert:hover {\n",
              "      background-color: #434B5C;\n",
              "      box-shadow: 0px 1px 3px 1px rgba(0, 0, 0, 0.15);\n",
              "      filter: drop-shadow(0px 1px 2px rgba(0, 0, 0, 0.3));\n",
              "      fill: #FFFFFF;\n",
              "    }\n",
              "  </style>\n",
              "\n",
              "    <script>\n",
              "      const buttonEl =\n",
              "        document.querySelector('#df-6db05507-f566-4f7e-ac88-835925fdc80a button.colab-df-convert');\n",
              "      buttonEl.style.display =\n",
              "        google.colab.kernel.accessAllowed ? 'block' : 'none';\n",
              "\n",
              "      async function convertToInteractive(key) {\n",
              "        const element = document.querySelector('#df-6db05507-f566-4f7e-ac88-835925fdc80a');\n",
              "        const dataTable =\n",
              "          await google.colab.kernel.invokeFunction('convertToInteractive',\n",
              "                                                    [key], {});\n",
              "        if (!dataTable) return;\n",
              "\n",
              "        const docLinkHtml = 'Like what you see? Visit the ' +\n",
              "          '<a target=\"_blank\" href=https://colab.research.google.com/notebooks/data_table.ipynb>data table notebook</a>'\n",
              "          + ' to learn more about interactive tables.';\n",
              "        element.innerHTML = '';\n",
              "        dataTable['output_type'] = 'display_data';\n",
              "        await google.colab.output.renderOutput(dataTable, element);\n",
              "        const docLink = document.createElement('div');\n",
              "        docLink.innerHTML = docLinkHtml;\n",
              "        element.appendChild(docLink);\n",
              "      }\n",
              "    </script>\n",
              "  </div>\n",
              "\n",
              "\n",
              "    <div id=\"df-f97c2cd7-36eb-43e5-86e3-72f6b65e532d\">\n",
              "      <button class=\"colab-df-quickchart\" onclick=\"quickchart('df-f97c2cd7-36eb-43e5-86e3-72f6b65e532d')\"\n",
              "                title=\"Suggest charts\"\n",
              "                style=\"display:none;\">\n",
              "\n",
              "<svg xmlns=\"http://www.w3.org/2000/svg\" height=\"24px\"viewBox=\"0 0 24 24\"\n",
              "     width=\"24px\">\n",
              "    <g>\n",
              "        <path d=\"M19 3H5c-1.1 0-2 .9-2 2v14c0 1.1.9 2 2 2h14c1.1 0 2-.9 2-2V5c0-1.1-.9-2-2-2zM9 17H7v-7h2v7zm4 0h-2V7h2v10zm4 0h-2v-4h2v4z\"/>\n",
              "    </g>\n",
              "</svg>\n",
              "      </button>\n",
              "\n",
              "<style>\n",
              "  .colab-df-quickchart {\n",
              "      --bg-color: #E8F0FE;\n",
              "      --fill-color: #1967D2;\n",
              "      --hover-bg-color: #E2EBFA;\n",
              "      --hover-fill-color: #174EA6;\n",
              "      --disabled-fill-color: #AAA;\n",
              "      --disabled-bg-color: #DDD;\n",
              "  }\n",
              "\n",
              "  [theme=dark] .colab-df-quickchart {\n",
              "      --bg-color: #3B4455;\n",
              "      --fill-color: #D2E3FC;\n",
              "      --hover-bg-color: #434B5C;\n",
              "      --hover-fill-color: #FFFFFF;\n",
              "      --disabled-bg-color: #3B4455;\n",
              "      --disabled-fill-color: #666;\n",
              "  }\n",
              "\n",
              "  .colab-df-quickchart {\n",
              "    background-color: var(--bg-color);\n",
              "    border: none;\n",
              "    border-radius: 50%;\n",
              "    cursor: pointer;\n",
              "    display: none;\n",
              "    fill: var(--fill-color);\n",
              "    height: 32px;\n",
              "    padding: 0;\n",
              "    width: 32px;\n",
              "  }\n",
              "\n",
              "  .colab-df-quickchart:hover {\n",
              "    background-color: var(--hover-bg-color);\n",
              "    box-shadow: 0 1px 2px rgba(60, 64, 67, 0.3), 0 1px 3px 1px rgba(60, 64, 67, 0.15);\n",
              "    fill: var(--button-hover-fill-color);\n",
              "  }\n",
              "\n",
              "  .colab-df-quickchart-complete:disabled,\n",
              "  .colab-df-quickchart-complete:disabled:hover {\n",
              "    background-color: var(--disabled-bg-color);\n",
              "    fill: var(--disabled-fill-color);\n",
              "    box-shadow: none;\n",
              "  }\n",
              "\n",
              "  .colab-df-spinner {\n",
              "    border: 2px solid var(--fill-color);\n",
              "    border-color: transparent;\n",
              "    border-bottom-color: var(--fill-color);\n",
              "    animation:\n",
              "      spin 1s steps(1) infinite;\n",
              "  }\n",
              "\n",
              "  @keyframes spin {\n",
              "    0% {\n",
              "      border-color: transparent;\n",
              "      border-bottom-color: var(--fill-color);\n",
              "      border-left-color: var(--fill-color);\n",
              "    }\n",
              "    20% {\n",
              "      border-color: transparent;\n",
              "      border-left-color: var(--fill-color);\n",
              "      border-top-color: var(--fill-color);\n",
              "    }\n",
              "    30% {\n",
              "      border-color: transparent;\n",
              "      border-left-color: var(--fill-color);\n",
              "      border-top-color: var(--fill-color);\n",
              "      border-right-color: var(--fill-color);\n",
              "    }\n",
              "    40% {\n",
              "      border-color: transparent;\n",
              "      border-right-color: var(--fill-color);\n",
              "      border-top-color: var(--fill-color);\n",
              "    }\n",
              "    60% {\n",
              "      border-color: transparent;\n",
              "      border-right-color: var(--fill-color);\n",
              "    }\n",
              "    80% {\n",
              "      border-color: transparent;\n",
              "      border-right-color: var(--fill-color);\n",
              "      border-bottom-color: var(--fill-color);\n",
              "    }\n",
              "    90% {\n",
              "      border-color: transparent;\n",
              "      border-bottom-color: var(--fill-color);\n",
              "    }\n",
              "  }\n",
              "</style>\n",
              "\n",
              "      <script>\n",
              "        async function quickchart(key) {\n",
              "          const quickchartButtonEl =\n",
              "            document.querySelector('#' + key + ' button');\n",
              "          quickchartButtonEl.disabled = true;  // To prevent multiple clicks.\n",
              "          quickchartButtonEl.classList.add('colab-df-spinner');\n",
              "          try {\n",
              "            const charts = await google.colab.kernel.invokeFunction(\n",
              "                'suggestCharts', [key], {});\n",
              "          } catch (error) {\n",
              "            console.error('Error during call to suggestCharts:', error);\n",
              "          }\n",
              "          quickchartButtonEl.classList.remove('colab-df-spinner');\n",
              "          quickchartButtonEl.classList.add('colab-df-quickchart-complete');\n",
              "        }\n",
              "        (() => {\n",
              "          let quickchartButtonEl =\n",
              "            document.querySelector('#df-f97c2cd7-36eb-43e5-86e3-72f6b65e532d button');\n",
              "          quickchartButtonEl.style.display =\n",
              "            google.colab.kernel.accessAllowed ? 'block' : 'none';\n",
              "        })();\n",
              "      </script>\n",
              "    </div>\n",
              "\n",
              "  <div id=\"id_fd7242fd-142f-4b9f-9dfa-3121a5338370\">\n",
              "    <style>\n",
              "      .colab-df-generate {\n",
              "        background-color: #E8F0FE;\n",
              "        border: none;\n",
              "        border-radius: 50%;\n",
              "        cursor: pointer;\n",
              "        display: none;\n",
              "        fill: #1967D2;\n",
              "        height: 32px;\n",
              "        padding: 0 0 0 0;\n",
              "        width: 32px;\n",
              "      }\n",
              "\n",
              "      .colab-df-generate:hover {\n",
              "        background-color: #E2EBFA;\n",
              "        box-shadow: 0px 1px 2px rgba(60, 64, 67, 0.3), 0px 1px 3px 1px rgba(60, 64, 67, 0.15);\n",
              "        fill: #174EA6;\n",
              "      }\n",
              "\n",
              "      [theme=dark] .colab-df-generate {\n",
              "        background-color: #3B4455;\n",
              "        fill: #D2E3FC;\n",
              "      }\n",
              "\n",
              "      [theme=dark] .colab-df-generate:hover {\n",
              "        background-color: #434B5C;\n",
              "        box-shadow: 0px 1px 3px 1px rgba(0, 0, 0, 0.15);\n",
              "        filter: drop-shadow(0px 1px 2px rgba(0, 0, 0, 0.3));\n",
              "        fill: #FFFFFF;\n",
              "      }\n",
              "    </style>\n",
              "    <button class=\"colab-df-generate\" onclick=\"generateWithVariable('df')\"\n",
              "            title=\"Generate code using this dataframe.\"\n",
              "            style=\"display:none;\">\n",
              "\n",
              "  <svg xmlns=\"http://www.w3.org/2000/svg\" height=\"24px\"viewBox=\"0 0 24 24\"\n",
              "       width=\"24px\">\n",
              "    <path d=\"M7,19H8.4L18.45,9,17,7.55,7,17.6ZM5,21V16.75L18.45,3.32a2,2,0,0,1,2.83,0l1.4,1.43a1.91,1.91,0,0,1,.58,1.4,1.91,1.91,0,0,1-.58,1.4L9.25,21ZM18.45,9,17,7.55Zm-12,3A5.31,5.31,0,0,0,4.9,8.1,5.31,5.31,0,0,0,1,6.5,5.31,5.31,0,0,0,4.9,4.9,5.31,5.31,0,0,0,6.5,1,5.31,5.31,0,0,0,8.1,4.9,5.31,5.31,0,0,0,12,6.5,5.46,5.46,0,0,0,6.5,12Z\"/>\n",
              "  </svg>\n",
              "    </button>\n",
              "    <script>\n",
              "      (() => {\n",
              "      const buttonEl =\n",
              "        document.querySelector('#id_fd7242fd-142f-4b9f-9dfa-3121a5338370 button.colab-df-generate');\n",
              "      buttonEl.style.display =\n",
              "        google.colab.kernel.accessAllowed ? 'block' : 'none';\n",
              "\n",
              "      buttonEl.onclick = () => {\n",
              "        google.colab.notebook.generateWithVariable('df');\n",
              "      }\n",
              "      })();\n",
              "    </script>\n",
              "  </div>\n",
              "\n",
              "    </div>\n",
              "  </div>\n"
            ],
            "application/vnd.google.colaboratory.intrinsic+json": {
              "type": "dataframe",
              "variable_name": "df"
            }
          },
          "metadata": {},
          "execution_count": 1
        }
      ]
    },
    {
      "cell_type": "code",
      "source": [
        "# =========================\n",
        "# 1) 파라미터\n",
        "# =========================\n",
        "FS_HZ         = 50        # 샘플링 주파수\n",
        "FRAME_SECONDS = 4         # 윈도우 길이(초)\n",
        "HOP_RATIO     = 0.5       # 0.5=50% overlap, 1.0=겹치기 없음\n",
        "FEATURE_MODE  = \"all\"     # \"all\" or \"acc_gyro_only\"\n",
        "\n",
        "BATCH   = 256\n",
        "AUTOTUNE = tf.data.AUTOTUNE\n",
        "\n",
        "# =========================\n",
        "# 2) 컬럼 정리\n",
        "# =========================\n",
        "ALL_FEATS = [c for c in df.columns if c not in (\"label\",\"subject\")]\n",
        "FEATS = [c for c in ALL_FEATS if (\"acc\" in c or \"gyro\" in c)] if FEATURE_MODE==\"acc_gyro_only\" else ALL_FEATS\n",
        "\n",
        "df[FEATS] = df[FEATS].astype(\"float32\")\n",
        "df[\"label\"] = df[\"label\"].astype(\"int16\")\n",
        "\n",
        "print(\"features used:\", len(FEATS))"
      ],
      "metadata": {
        "colab": {
          "base_uri": "https://localhost:8080/"
        },
        "id": "5-2HqKx8XFQQ",
        "outputId": "c650e87a-2c72-4417-dfc2-ffb382572770"
      },
      "execution_count": 8,
      "outputs": [
        {
          "output_type": "stream",
          "name": "stdout",
          "text": [
            "features used: 23\n"
          ]
        }
      ]
    },
    {
      "cell_type": "code",
      "source": [
        "# =========================\n",
        "# 3) subject별 80/20 split\n",
        "# =========================\n",
        "train_parts, test_parts = [], []\n",
        "for sid, g in df.groupby(\"subject\"):\n",
        "    n = int(len(g) * 0.8)\n",
        "    train_parts.append(g.iloc[:n])\n",
        "    test_parts.append(g.iloc[n:])\n",
        "\n",
        "train_df = pd.concat(train_parts, ignore_index=True)\n",
        "test_df  = pd.concat(test_parts,  ignore_index=True)\n",
        "\n",
        "print(\"train_df:\", train_df.shape, \"test_df:\", test_df.shape)"
      ],
      "metadata": {
        "colab": {
          "base_uri": "https://localhost:8080/"
        },
        "id": "vUg3Kp3TXSvA",
        "outputId": "8c1855be-f102-4dfb-f6e6-8b9843b42b57"
      },
      "execution_count": 9,
      "outputs": [
        {
          "output_type": "stream",
          "name": "stdout",
          "text": [
            "train_df: (972592, 25) test_df: (243153, 25)\n"
          ]
        }
      ]
    },
    {
      "cell_type": "code",
      "source": [
        "# =========================\n",
        "# 4) 제너레이터 기반 슬라이딩 윈도우\n",
        "# =========================\n",
        "FRAME = FS_HZ * FRAME_SECONDS\n",
        "HOP   = max(1, int(FRAME * HOP_RATIO))\n",
        "N_FEATS = len(FEATS)\n",
        "N_CLASSES = int(df[\"label\"].max()) + 1\n",
        "\n",
        "# train 통계로 표준화\n",
        "mu  = train_df[FEATS].mean().to_numpy(dtype=np.float32)\n",
        "std = train_df[FEATS].std(ddof=0).replace(0, 1.0).to_numpy(dtype=np.float32)\n",
        "\n",
        "def window_generator(df_part, frame, hop, feats, mu, std):\n",
        "    X = df_part[feats].to_numpy(dtype=np.float32, copy=False)\n",
        "    y = df_part[\"label\"].to_numpy(dtype=np.int32, copy=False)\n",
        "    N = len(df_part)\n",
        "    for i in range(0, N - frame, hop):\n",
        "        seg = (X[i:i+frame] - mu) / std\n",
        "        lab = np.bincount(y[i:i+frame], minlength=N_CLASSES).argmax().astype(np.int32)\n",
        "        yield seg, lab\n",
        "\n",
        "def make_ds(df_part, frame, hop, feats, mu, std, batch=BATCH, shuffle=False):\n",
        "    output_sig = (\n",
        "        tf.TensorSpec(shape=(frame, len(feats)), dtype=tf.float32),\n",
        "        tf.TensorSpec(shape=(), dtype=tf.int32),\n",
        "    )\n",
        "    ds = tf.data.Dataset.from_generator(\n",
        "        lambda: window_generator(df_part, frame, hop, feats, mu, std),\n",
        "        output_signature=output_sig\n",
        "    )\n",
        "    if shuffle:\n",
        "        ds = ds.shuffle(10000)\n",
        "    return ds.batch(batch).prefetch(AUTOTUNE)\n",
        "\n",
        "ds_train = make_ds(train_df, FRAME, HOP, FEATS, mu, std, shuffle=True)\n",
        "ds_test  = make_ds(test_df,  FRAME, HOP, FEATS, mu, std, shuffle=False)\n"
      ],
      "metadata": {
        "id": "hN7-fmQBH3mU"
      },
      "execution_count": 10,
      "outputs": []
    },
    {
      "cell_type": "code",
      "source": [
        "# =========================\n",
        "# 5) CNN 모델 정의\n",
        "# =========================\n",
        "from tensorflow.keras import layers, models\n",
        "\n",
        "def make_cnn(input_frame, n_feats, n_classes):\n",
        "    inp = layers.Input(shape=(input_frame, n_feats))\n",
        "    x = layers.Conv1D(64, 5, padding=\"same\", activation=\"relu\")(inp)\n",
        "    x = layers.BatchNormalization()(x); x = layers.MaxPool1D(2)(x)\n",
        "    x = layers.Conv1D(128, 5, padding=\"same\", activation=\"relu\")(x)\n",
        "    x = layers.BatchNormalization()(x); x = layers.MaxPool1D(2)(x)\n",
        "    x = layers.Conv1D(256, 3, padding=\"same\", activation=\"relu\")(x)\n",
        "    x = layers.BatchNormalization()(x)\n",
        "    x = layers.GlobalAveragePooling1D()(x)\n",
        "    x = layers.Dropout(0.3)(x)\n",
        "    out = layers.Dense(n_classes, activation=\"softmax\")(x)\n",
        "    return models.Model(inp, out)\n",
        "\n",
        "model = make_cnn(FRAME, N_FEATS, N_CLASSES)\n",
        "model.compile(optimizer=\"adam\",\n",
        "              loss=\"sparse_categorical_crossentropy\",\n",
        "              metrics=[\"accuracy\"])"
      ],
      "metadata": {
        "id": "ta6Ki6w6HqX7"
      },
      "execution_count": 12,
      "outputs": []
    },
    {
      "cell_type": "code",
      "source": [
        "# =========================\n",
        "# 6) 학습 & 평가\n",
        "# =========================\n",
        "print(\"\\n=== Train CNN ===\")\n",
        "model.fit(ds_train, epochs=20, verbose=1)\n",
        "\n",
        "print(\"\\n=== Evaluate CNN ===\")\n",
        "test_loss, test_acc = model.evaluate(ds_test, verbose=0)\n",
        "print(f\"Test Accuracy: {test_acc:.4f}\")"
      ],
      "metadata": {
        "colab": {
          "base_uri": "https://localhost:8080/"
        },
        "id": "JVE3g2JjHugi",
        "outputId": "ec1b1b18-8484-42c3-d566-7f764024fa69"
      },
      "execution_count": 13,
      "outputs": [
        {
          "output_type": "stream",
          "name": "stdout",
          "text": [
            "\n",
            "=== Train CNN ===\n",
            "Epoch 1/20\n",
            "\u001b[1m38/38\u001b[0m \u001b[32m━━━━━━━━━━━━━━━━━━━━\u001b[0m\u001b[37m\u001b[0m \u001b[1m18s\u001b[0m 129ms/step - accuracy: 0.5077 - loss: 2.0034\n",
            "Epoch 2/20\n"
          ]
        },
        {
          "output_type": "stream",
          "name": "stderr",
          "text": [
            "/usr/local/lib/python3.12/dist-packages/keras/src/trainers/epoch_iterator.py:160: UserWarning: Your input ran out of data; interrupting training. Make sure that your dataset or generator can generate at least `steps_per_epoch * epochs` batches. You may need to use the `.repeat()` function when building your dataset.\n",
            "  self._interrupted_warning()\n"
          ]
        },
        {
          "output_type": "stream",
          "name": "stdout",
          "text": [
            "\u001b[1m38/38\u001b[0m \u001b[32m━━━━━━━━━━━━━━━━━━━━\u001b[0m\u001b[37m\u001b[0m \u001b[1m4s\u001b[0m 17ms/step - accuracy: 0.8157 - loss: 1.1702\n",
            "Epoch 3/20\n"
          ]
        },
        {
          "output_type": "stream",
          "name": "stderr",
          "text": [
            "/usr/local/lib/python3.12/dist-packages/keras/src/trainers/epoch_iterator.py:160: UserWarning: Your input ran out of data; interrupting training. Make sure that your dataset or generator can generate at least `steps_per_epoch * epochs` batches. You may need to use the `.repeat()` function when building your dataset.\n",
            "  self._interrupted_warning()\n"
          ]
        },
        {
          "output_type": "stream",
          "name": "stdout",
          "text": [
            "\u001b[1m38/38\u001b[0m \u001b[32m━━━━━━━━━━━━━━━━━━━━\u001b[0m\u001b[37m\u001b[0m \u001b[1m4s\u001b[0m 14ms/step - accuracy: 0.8473 - loss: 0.7873\n",
            "Epoch 4/20\n"
          ]
        },
        {
          "output_type": "stream",
          "name": "stderr",
          "text": [
            "/usr/local/lib/python3.12/dist-packages/keras/src/trainers/epoch_iterator.py:160: UserWarning: Your input ran out of data; interrupting training. Make sure that your dataset or generator can generate at least `steps_per_epoch * epochs` batches. You may need to use the `.repeat()` function when building your dataset.\n",
            "  self._interrupted_warning()\n"
          ]
        },
        {
          "output_type": "stream",
          "name": "stdout",
          "text": [
            "\u001b[1m38/38\u001b[0m \u001b[32m━━━━━━━━━━━━━━━━━━━━\u001b[0m\u001b[37m\u001b[0m \u001b[1m21s\u001b[0m 17ms/step - accuracy: 0.8711 - loss: 0.4976\n",
            "Epoch 5/20\n"
          ]
        },
        {
          "output_type": "stream",
          "name": "stderr",
          "text": [
            "/usr/local/lib/python3.12/dist-packages/keras/src/trainers/epoch_iterator.py:160: UserWarning: Your input ran out of data; interrupting training. Make sure that your dataset or generator can generate at least `steps_per_epoch * epochs` batches. You may need to use the `.repeat()` function when building your dataset.\n",
            "  self._interrupted_warning()\n"
          ]
        },
        {
          "output_type": "stream",
          "name": "stdout",
          "text": [
            "\u001b[1m38/38\u001b[0m \u001b[32m━━━━━━━━━━━━━━━━━━━━\u001b[0m\u001b[37m\u001b[0m \u001b[1m4s\u001b[0m 14ms/step - accuracy: 0.8821 - loss: 0.3544\n",
            "Epoch 6/20\n"
          ]
        },
        {
          "output_type": "stream",
          "name": "stderr",
          "text": [
            "/usr/local/lib/python3.12/dist-packages/keras/src/trainers/epoch_iterator.py:160: UserWarning: Your input ran out of data; interrupting training. Make sure that your dataset or generator can generate at least `steps_per_epoch * epochs` batches. You may need to use the `.repeat()` function when building your dataset.\n",
            "  self._interrupted_warning()\n"
          ]
        },
        {
          "output_type": "stream",
          "name": "stdout",
          "text": [
            "\u001b[1m38/38\u001b[0m \u001b[32m━━━━━━━━━━━━━━━━━━━━\u001b[0m\u001b[37m\u001b[0m \u001b[1m4s\u001b[0m 15ms/step - accuracy: 0.8741 - loss: 0.3306\n",
            "Epoch 7/20\n"
          ]
        },
        {
          "output_type": "stream",
          "name": "stderr",
          "text": [
            "/usr/local/lib/python3.12/dist-packages/keras/src/trainers/epoch_iterator.py:160: UserWarning: Your input ran out of data; interrupting training. Make sure that your dataset or generator can generate at least `steps_per_epoch * epochs` batches. You may need to use the `.repeat()` function when building your dataset.\n",
            "  self._interrupted_warning()\n"
          ]
        },
        {
          "output_type": "stream",
          "name": "stdout",
          "text": [
            "\u001b[1m38/38\u001b[0m \u001b[32m━━━━━━━━━━━━━━━━━━━━\u001b[0m\u001b[37m\u001b[0m \u001b[1m4s\u001b[0m 16ms/step - accuracy: 0.8908 - loss: 0.2836\n",
            "Epoch 8/20\n"
          ]
        },
        {
          "output_type": "stream",
          "name": "stderr",
          "text": [
            "/usr/local/lib/python3.12/dist-packages/keras/src/trainers/epoch_iterator.py:160: UserWarning: Your input ran out of data; interrupting training. Make sure that your dataset or generator can generate at least `steps_per_epoch * epochs` batches. You may need to use the `.repeat()` function when building your dataset.\n",
            "  self._interrupted_warning()\n"
          ]
        },
        {
          "output_type": "stream",
          "name": "stdout",
          "text": [
            "\u001b[1m38/38\u001b[0m \u001b[32m━━━━━━━━━━━━━━━━━━━━\u001b[0m\u001b[37m\u001b[0m \u001b[1m4s\u001b[0m 16ms/step - accuracy: 0.8935 - loss: 0.2720\n",
            "Epoch 9/20\n"
          ]
        },
        {
          "output_type": "stream",
          "name": "stderr",
          "text": [
            "/usr/local/lib/python3.12/dist-packages/keras/src/trainers/epoch_iterator.py:160: UserWarning: Your input ran out of data; interrupting training. Make sure that your dataset or generator can generate at least `steps_per_epoch * epochs` batches. You may need to use the `.repeat()` function when building your dataset.\n",
            "  self._interrupted_warning()\n"
          ]
        },
        {
          "output_type": "stream",
          "name": "stdout",
          "text": [
            "\u001b[1m38/38\u001b[0m \u001b[32m━━━━━━━━━━━━━━━━━━━━\u001b[0m\u001b[37m\u001b[0m \u001b[1m4s\u001b[0m 15ms/step - accuracy: 0.8982 - loss: 0.2507\n",
            "Epoch 10/20\n"
          ]
        },
        {
          "output_type": "stream",
          "name": "stderr",
          "text": [
            "/usr/local/lib/python3.12/dist-packages/keras/src/trainers/epoch_iterator.py:160: UserWarning: Your input ran out of data; interrupting training. Make sure that your dataset or generator can generate at least `steps_per_epoch * epochs` batches. You may need to use the `.repeat()` function when building your dataset.\n",
            "  self._interrupted_warning()\n"
          ]
        },
        {
          "output_type": "stream",
          "name": "stdout",
          "text": [
            "\u001b[1m38/38\u001b[0m \u001b[32m━━━━━━━━━━━━━━━━━━━━\u001b[0m\u001b[37m\u001b[0m \u001b[1m4s\u001b[0m 15ms/step - accuracy: 0.9119 - loss: 0.2354\n",
            "Epoch 11/20\n"
          ]
        },
        {
          "output_type": "stream",
          "name": "stderr",
          "text": [
            "/usr/local/lib/python3.12/dist-packages/keras/src/trainers/epoch_iterator.py:160: UserWarning: Your input ran out of data; interrupting training. Make sure that your dataset or generator can generate at least `steps_per_epoch * epochs` batches. You may need to use the `.repeat()` function when building your dataset.\n",
            "  self._interrupted_warning()\n"
          ]
        },
        {
          "output_type": "stream",
          "name": "stdout",
          "text": [
            "\u001b[1m38/38\u001b[0m \u001b[32m━━━━━━━━━━━━━━━━━━━━\u001b[0m\u001b[37m\u001b[0m \u001b[1m4s\u001b[0m 15ms/step - accuracy: 0.9045 - loss: 0.2344\n",
            "Epoch 12/20\n"
          ]
        },
        {
          "output_type": "stream",
          "name": "stderr",
          "text": [
            "/usr/local/lib/python3.12/dist-packages/keras/src/trainers/epoch_iterator.py:160: UserWarning: Your input ran out of data; interrupting training. Make sure that your dataset or generator can generate at least `steps_per_epoch * epochs` batches. You may need to use the `.repeat()` function when building your dataset.\n",
            "  self._interrupted_warning()\n"
          ]
        },
        {
          "output_type": "stream",
          "name": "stdout",
          "text": [
            "\u001b[1m38/38\u001b[0m \u001b[32m━━━━━━━━━━━━━━━━━━━━\u001b[0m\u001b[37m\u001b[0m \u001b[1m4s\u001b[0m 15ms/step - accuracy: 0.9032 - loss: 0.2280\n",
            "Epoch 13/20\n"
          ]
        },
        {
          "output_type": "stream",
          "name": "stderr",
          "text": [
            "/usr/local/lib/python3.12/dist-packages/keras/src/trainers/epoch_iterator.py:160: UserWarning: Your input ran out of data; interrupting training. Make sure that your dataset or generator can generate at least `steps_per_epoch * epochs` batches. You may need to use the `.repeat()` function when building your dataset.\n",
            "  self._interrupted_warning()\n"
          ]
        },
        {
          "output_type": "stream",
          "name": "stdout",
          "text": [
            "\u001b[1m38/38\u001b[0m \u001b[32m━━━━━━━━━━━━━━━━━━━━\u001b[0m\u001b[37m\u001b[0m \u001b[1m4s\u001b[0m 15ms/step - accuracy: 0.9017 - loss: 0.2313\n",
            "Epoch 14/20\n"
          ]
        },
        {
          "output_type": "stream",
          "name": "stderr",
          "text": [
            "/usr/local/lib/python3.12/dist-packages/keras/src/trainers/epoch_iterator.py:160: UserWarning: Your input ran out of data; interrupting training. Make sure that your dataset or generator can generate at least `steps_per_epoch * epochs` batches. You may need to use the `.repeat()` function when building your dataset.\n",
            "  self._interrupted_warning()\n"
          ]
        },
        {
          "output_type": "stream",
          "name": "stdout",
          "text": [
            "\u001b[1m38/38\u001b[0m \u001b[32m━━━━━━━━━━━━━━━━━━━━\u001b[0m\u001b[37m\u001b[0m \u001b[1m4s\u001b[0m 17ms/step - accuracy: 0.9139 - loss: 0.1988\n",
            "Epoch 15/20\n"
          ]
        },
        {
          "output_type": "stream",
          "name": "stderr",
          "text": [
            "/usr/local/lib/python3.12/dist-packages/keras/src/trainers/epoch_iterator.py:160: UserWarning: Your input ran out of data; interrupting training. Make sure that your dataset or generator can generate at least `steps_per_epoch * epochs` batches. You may need to use the `.repeat()` function when building your dataset.\n",
            "  self._interrupted_warning()\n"
          ]
        },
        {
          "output_type": "stream",
          "name": "stdout",
          "text": [
            "\u001b[1m38/38\u001b[0m \u001b[32m━━━━━━━━━━━━━━━━━━━━\u001b[0m\u001b[37m\u001b[0m \u001b[1m4s\u001b[0m 15ms/step - accuracy: 0.9110 - loss: 0.2140\n",
            "Epoch 16/20\n"
          ]
        },
        {
          "output_type": "stream",
          "name": "stderr",
          "text": [
            "/usr/local/lib/python3.12/dist-packages/keras/src/trainers/epoch_iterator.py:160: UserWarning: Your input ran out of data; interrupting training. Make sure that your dataset or generator can generate at least `steps_per_epoch * epochs` batches. You may need to use the `.repeat()` function when building your dataset.\n",
            "  self._interrupted_warning()\n"
          ]
        },
        {
          "output_type": "stream",
          "name": "stdout",
          "text": [
            "\u001b[1m38/38\u001b[0m \u001b[32m━━━━━━━━━━━━━━━━━━━━\u001b[0m\u001b[37m\u001b[0m \u001b[1m4s\u001b[0m 18ms/step - accuracy: 0.9165 - loss: 0.1973\n",
            "Epoch 17/20\n"
          ]
        },
        {
          "output_type": "stream",
          "name": "stderr",
          "text": [
            "/usr/local/lib/python3.12/dist-packages/keras/src/trainers/epoch_iterator.py:160: UserWarning: Your input ran out of data; interrupting training. Make sure that your dataset or generator can generate at least `steps_per_epoch * epochs` batches. You may need to use the `.repeat()` function when building your dataset.\n",
            "  self._interrupted_warning()\n"
          ]
        },
        {
          "output_type": "stream",
          "name": "stdout",
          "text": [
            "\u001b[1m38/38\u001b[0m \u001b[32m━━━━━━━━━━━━━━━━━━━━\u001b[0m\u001b[37m\u001b[0m \u001b[1m4s\u001b[0m 17ms/step - accuracy: 0.9201 - loss: 0.1890\n",
            "Epoch 18/20\n"
          ]
        },
        {
          "output_type": "stream",
          "name": "stderr",
          "text": [
            "/usr/local/lib/python3.12/dist-packages/keras/src/trainers/epoch_iterator.py:160: UserWarning: Your input ran out of data; interrupting training. Make sure that your dataset or generator can generate at least `steps_per_epoch * epochs` batches. You may need to use the `.repeat()` function when building your dataset.\n",
            "  self._interrupted_warning()\n"
          ]
        },
        {
          "output_type": "stream",
          "name": "stdout",
          "text": [
            "\u001b[1m38/38\u001b[0m \u001b[32m━━━━━━━━━━━━━━━━━━━━\u001b[0m\u001b[37m\u001b[0m \u001b[1m4s\u001b[0m 15ms/step - accuracy: 0.9308 - loss: 0.1736\n",
            "Epoch 19/20\n"
          ]
        },
        {
          "output_type": "stream",
          "name": "stderr",
          "text": [
            "/usr/local/lib/python3.12/dist-packages/keras/src/trainers/epoch_iterator.py:160: UserWarning: Your input ran out of data; interrupting training. Make sure that your dataset or generator can generate at least `steps_per_epoch * epochs` batches. You may need to use the `.repeat()` function when building your dataset.\n",
            "  self._interrupted_warning()\n"
          ]
        },
        {
          "output_type": "stream",
          "name": "stdout",
          "text": [
            "\u001b[1m38/38\u001b[0m \u001b[32m━━━━━━━━━━━━━━━━━━━━\u001b[0m\u001b[37m\u001b[0m \u001b[1m4s\u001b[0m 14ms/step - accuracy: 0.9255 - loss: 0.1777\n",
            "Epoch 20/20\n"
          ]
        },
        {
          "output_type": "stream",
          "name": "stderr",
          "text": [
            "/usr/local/lib/python3.12/dist-packages/keras/src/trainers/epoch_iterator.py:160: UserWarning: Your input ran out of data; interrupting training. Make sure that your dataset or generator can generate at least `steps_per_epoch * epochs` batches. You may need to use the `.repeat()` function when building your dataset.\n",
            "  self._interrupted_warning()\n"
          ]
        },
        {
          "output_type": "stream",
          "name": "stdout",
          "text": [
            "\u001b[1m38/38\u001b[0m \u001b[32m━━━━━━━━━━━━━━━━━━━━\u001b[0m\u001b[37m\u001b[0m \u001b[1m4s\u001b[0m 15ms/step - accuracy: 0.9300 - loss: 0.1718\n",
            "\n",
            "=== Evaluate CNN ===\n"
          ]
        },
        {
          "output_type": "stream",
          "name": "stderr",
          "text": [
            "/usr/local/lib/python3.12/dist-packages/keras/src/trainers/epoch_iterator.py:160: UserWarning: Your input ran out of data; interrupting training. Make sure that your dataset or generator can generate at least `steps_per_epoch * epochs` batches. You may need to use the `.repeat()` function when building your dataset.\n",
            "  self._interrupted_warning()\n"
          ]
        },
        {
          "output_type": "stream",
          "name": "stdout",
          "text": [
            "Test Accuracy: 0.8770\n"
          ]
        },
        {
          "output_type": "stream",
          "name": "stderr",
          "text": [
            "/usr/local/lib/python3.12/dist-packages/keras/src/trainers/epoch_iterator.py:160: UserWarning: Your input ran out of data; interrupting training. Make sure that your dataset or generator can generate at least `steps_per_epoch * epochs` batches. You may need to use the `.repeat()` function when building your dataset.\n",
            "  self._interrupted_warning()\n"
          ]
        }
      ]
    },
    {
      "cell_type": "code",
      "source": [
        "# =========================\n",
        "# 7) 분류 리포트\n",
        "# =========================\n",
        "from sklearn.metrics import classification_report, confusion_matrix\n",
        "\n",
        "y_true, y_pred = [], []\n",
        "for xb, yb in ds_test:\n",
        "    pb = model.predict(xb, verbose=0).argmax(axis=1)\n",
        "    y_true.append(yb.numpy()); y_pred.append(pb)\n",
        "y_true = np.concatenate(y_true); y_pred = np.concatenate(y_pred)\n",
        "\n",
        "print(classification_report(y_true, y_pred, digits=4))\n",
        "print(\"Confusion matrix:\\n\", confusion_matrix(y_true, y_pred))"
      ],
      "metadata": {
        "id": "Zjc_TyidHyw9",
        "colab": {
          "base_uri": "https://localhost:8080/"
        },
        "outputId": "268060a4-a0da-4916-eeb4-c0b64c1fcfa3"
      },
      "execution_count": 14,
      "outputs": [
        {
          "output_type": "stream",
          "name": "stdout",
          "text": [
            "              precision    recall  f1-score   support\n",
            "\n",
            "           0     0.9256    0.9379    0.9317      1949\n",
            "           1     0.0000    0.0000    0.0000         0\n",
            "           4     0.0000    0.0000    0.0000         0\n",
            "           5     0.7009    0.5325    0.6052       154\n",
            "           6     0.0000    0.0000    0.0000         0\n",
            "           8     0.0000    0.0000    0.0000         0\n",
            "           9     0.6061    0.9836    0.7500        61\n",
            "          10     0.6019    0.9254    0.7294        67\n",
            "          11     0.8681    0.5374    0.6639       147\n",
            "          12     0.7143    0.3846    0.5000        52\n",
            "\n",
            "    accuracy                         0.8770      2430\n",
            "   macro avg     0.4417    0.4301    0.4180      2430\n",
            "weighted avg     0.8864    0.8770    0.8754      2430\n",
            "\n",
            "Confusion matrix:\n",
            " [[1828    7    3   35    3    3   39   11   12    8]\n",
            " [   0    0    0    0    0    0    0    0    0    0]\n",
            " [   0    0    0    0    0    0    0    0    0    0]\n",
            " [  71    0    0   82    0    1    0    0    0    0]\n",
            " [   0    0    0    0    0    0    0    0    0    0]\n",
            " [   0    0    0    0    0    0    0    0    0    0]\n",
            " [   1    0    0    0    0    0   60    0    0    0]\n",
            " [   5    0    0    0    0    0    0   62    0    0]\n",
            " [  38    0    0    0    0    0    0   30   79    0]\n",
            " [  32    0    0    0    0    0    0    0    0   20]]\n"
          ]
        },
        {
          "output_type": "stream",
          "name": "stderr",
          "text": [
            "/usr/local/lib/python3.12/dist-packages/sklearn/metrics/_classification.py:1565: UndefinedMetricWarning: Recall is ill-defined and being set to 0.0 in labels with no true samples. Use `zero_division` parameter to control this behavior.\n",
            "  _warn_prf(average, modifier, f\"{metric.capitalize()} is\", len(result))\n",
            "/usr/local/lib/python3.12/dist-packages/sklearn/metrics/_classification.py:1565: UndefinedMetricWarning: Recall is ill-defined and being set to 0.0 in labels with no true samples. Use `zero_division` parameter to control this behavior.\n",
            "  _warn_prf(average, modifier, f\"{metric.capitalize()} is\", len(result))\n",
            "/usr/local/lib/python3.12/dist-packages/sklearn/metrics/_classification.py:1565: UndefinedMetricWarning: Recall is ill-defined and being set to 0.0 in labels with no true samples. Use `zero_division` parameter to control this behavior.\n",
            "  _warn_prf(average, modifier, f\"{metric.capitalize()} is\", len(result))\n"
          ]
        }
      ]
    }
  ]
}